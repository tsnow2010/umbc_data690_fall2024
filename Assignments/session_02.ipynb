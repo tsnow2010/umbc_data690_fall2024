{
  "nbformat": 4,
  "nbformat_minor": 0,
  "metadata": {
    "colab": {
      "provenance": [],
      "include_colab_link": true
    },
    "kernelspec": {
      "name": "python3",
      "display_name": "Python 3"
    },
    "language_info": {
      "name": "python"
    }
  },
  "cells": [
    {
      "cell_type": "markdown",
      "metadata": {
        "id": "view-in-github",
        "colab_type": "text"
      },
      "source": [
        "<a href=\"https://colab.research.google.com/github/tsnow2010/umbc_data690_fall2024/blob/main/session_02.ipynb\" target=\"_parent\"><img src=\"https://colab.research.google.com/assets/colab-badge.svg\" alt=\"Open In Colab\"/></a>"
      ]
    },
    {
      "cell_type": "markdown",
      "source": [
        "# UMBC DATA690 Fall 2024\n",
        "\n",
        "## Session 02"
      ],
      "metadata": {
        "id": "Sj_ExJiJY5al"
      }
    },
    {
      "cell_type": "markdown",
      "source": [
        "## Step 1: Load the Survey Response Data"
      ],
      "metadata": {
        "id": "d4JKnNwuc4pv"
      }
    },
    {
      "cell_type": "code",
      "source": [
        "import pandas as pd\n",
        "from random import randint\n",
        "\n",
        "DATA_URL = 'https://raw.githubusercontent.com/wcj365/python-stats-dataviz/master/data/UMBC%20DATA%20690%20FALL%202024%20DR%20WANG%20Student%20Survey.csv'\n",
        "\n",
        "df = pd.read_csv(DATA_URL)\n",
        "\n",
        "df.shape\n",
        "df.head(5)\n",
        "df.tail(2)\n",
        "df.sample(5)\n",
        "\n",
        "# Below gives a random sample of a field from column 10\n",
        "# prev_column_list = list(df['10. What do you expect to get out of this course?'])\n",
        "# print(prev_column_list[randint(0,len(prev_column_list)-1)])\n"
      ],
      "metadata": {
        "colab": {
          "base_uri": "https://localhost:8080/"
        },
        "id": "TDfOMl0xZiro",
        "outputId": "17f18770-1722-4aec-a492-166343d923e2"
      },
      "execution_count": null,
      "outputs": [
        {
          "output_type": "stream",
          "name": "stdout",
          "text": [
            "A good handson experience on statistics and python programming \n"
          ]
        }
      ]
    },
    {
      "cell_type": "markdown",
      "source": [
        "## Step 2: Explore Age Distribution\n"
      ],
      "metadata": {
        "id": "lPnMeOwidJRp"
      }
    },
    {
      "cell_type": "code",
      "source": [
        "# Access a column in a panda object like its a dictionary and then convert into a list.\n",
        "yob_list = list(df['8. My Birth Year'])\n"
      ],
      "metadata": {
        "id": "rsoKWspAdP0H"
      },
      "execution_count": null,
      "outputs": []
    },
    {
      "cell_type": "code",
      "source": [
        "cleansed_yob_list = [] # Empty list\n",
        "\n",
        "for yob in yob_list:\n",
        "  cleansed_yob = yob[-4:]\n",
        "  cleansed_yob_list.append(cleansed_yob)\n",
        "\n",
        "cleansed_yob_list\n"
      ],
      "metadata": {
        "colab": {
          "base_uri": "https://localhost:8080/"
        },
        "id": "4lpsC_bgeXGj",
        "outputId": "c1280a92-5b00-4baa-c252-9e613eb5807d"
      },
      "execution_count": null,
      "outputs": [
        {
          "output_type": "execute_result",
          "data": {
            "text/plain": [
              "['2000',\n",
              " '2002',\n",
              " '1997',\n",
              " '1999',\n",
              " '2000',\n",
              " '2001',\n",
              " '2000',\n",
              " '1999',\n",
              " '1978',\n",
              " '2000',\n",
              " '1999',\n",
              " '2000',\n",
              " '1998',\n",
              " '2001',\n",
              " '2001',\n",
              " '2000',\n",
              " '2002',\n",
              " '1992',\n",
              " '2001',\n",
              " '1997',\n",
              " '1999']"
            ]
          },
          "metadata": {},
          "execution_count": 7
        }
      ]
    },
    {
      "cell_type": "code",
      "source": [
        "# Now let's modify the same column and convert the years of birth to ages.\n",
        "\n",
        "age_list = []\n",
        "\n",
        "# Iterates through years and converts into age (CAO 2024)\n",
        "for yob in cleansed_yob_list:\n",
        "  age = int(2024-int(yob))\n",
        "  age_list.append(age)\n",
        "\n",
        "age_list"
      ],
      "metadata": {
        "colab": {
          "base_uri": "https://localhost:8080/"
        },
        "id": "fQDtM5BngpZR",
        "outputId": "c576e8a5-f6bb-499e-ebf5-ff00b4564dd3"
      },
      "execution_count": null,
      "outputs": [
        {
          "output_type": "execute_result",
          "data": {
            "text/plain": [
              "[24,\n",
              " 22,\n",
              " 27,\n",
              " 25,\n",
              " 24,\n",
              " 23,\n",
              " 24,\n",
              " 25,\n",
              " 46,\n",
              " 24,\n",
              " 25,\n",
              " 24,\n",
              " 26,\n",
              " 23,\n",
              " 23,\n",
              " 24,\n",
              " 22,\n",
              " 32,\n",
              " 23,\n",
              " 27,\n",
              " 25]"
            ]
          },
          "metadata": {},
          "execution_count": 8
        }
      ]
    },
    {
      "cell_type": "code",
      "source": [
        "# Finds minimum age.\n",
        "min(age_list)\n",
        "\n",
        "# Finds maximum age.\n",
        "max(age_list)\n",
        "\n",
        "# Finds average\n",
        "total_age = 0\n",
        "\n",
        "for age in age_list:\n",
        "  total_age = total_age + age\n",
        "\n",
        "# Calculates and rounds average age.\n",
        "round(total_age/len(age_list))\n"
      ],
      "metadata": {
        "id": "QYUNgXIvlzTY",
        "outputId": "95726323-3197-42f7-a7ae-aa28e175988c",
        "colab": {
          "base_uri": "https://localhost:8080/"
        }
      },
      "execution_count": null,
      "outputs": [
        {
          "output_type": "execute_result",
          "data": {
            "text/plain": [
              "26"
            ]
          },
          "metadata": {},
          "execution_count": 9
        }
      ]
    },
    {
      "cell_type": "code",
      "source": [
        "revised_age_total = 0\n",
        "num_skipped = 0\n",
        "\n",
        "for age in age_list:\n",
        "  if age > 35:\n",
        "    num_skipped += 1\n",
        "    continue\n",
        "  revised_age_total += age\n",
        "\n",
        "print('Revised average age, minus outliers, is: ' + str(round(revised_age_total/(len(age_list)-num_skipped))))"
      ],
      "metadata": {
        "id": "ysZhSlr1o5oL",
        "outputId": "c2c13bee-196f-4cce-bfe7-81dfadc211ca",
        "colab": {
          "base_uri": "https://localhost:8080/"
        }
      },
      "execution_count": null,
      "outputs": [
        {
          "output_type": "stream",
          "name": "stdout",
          "text": [
            "Revised average age, minus outliers, is: 25\n"
          ]
        }
      ]
    },
    {
      "cell_type": "code",
      "source": [
        "# Now, lets remove some smaller numbered outliers as well.\n",
        "\n",
        "revised_age_total_2 = 0\n",
        "num_skipped_2 = 0\n",
        "\n",
        "for age in age_list:\n",
        "  if age >= 35 or age <= 22:\n",
        "    print('Age', age, 'is skipped.')\n",
        "    num_skipped_2 += 1\n",
        "  else:\n",
        "    revised_age_total_2 += age\n",
        "\n",
        "print('Revised average age, minus small and large outliers, is:', str(round(revised_age_total_2/(len(age_list)-num_skipped_2))))"
      ],
      "metadata": {
        "id": "3LVAwpy8qEjA",
        "outputId": "a77f36a7-a92c-441d-c7d9-a08a8b90ddc2",
        "colab": {
          "base_uri": "https://localhost:8080/"
        }
      },
      "execution_count": null,
      "outputs": [
        {
          "output_type": "stream",
          "name": "stdout",
          "text": [
            "Age 22 is skipped.\n",
            "Age 46 is skipped.\n",
            "Age 22 is skipped.\n",
            "Revised average age, minus small and large outliers, is: 25\n"
          ]
        }
      ]
    },
    {
      "cell_type": "markdown",
      "source": [
        "## Step 3: Explore Educational Background\n",
        "\n",
        "> * Analyzing our students' educational background."
      ],
      "metadata": {
        "id": "HjLlKttHrj_y"
      }
    },
    {
      "cell_type": "code",
      "source": [
        "# Gathers educational background data from responses.\n",
        "edu_list = list(df['1. My primary educational background'])\n",
        "\n",
        "# This function is a comprehensive strip() function, removing parentheses and commas, and lowercases the word.\n",
        "\n",
        "def strip_all(word):\n",
        "  strip1 = word.strip(')')\n",
        "  strip2 = strip1.strip('(')\n",
        "  strip3 = strip2.strip(',')\n",
        "  lower_strip = strip3.lower()\n",
        "  return lower_strip\n",
        "\n",
        "# Lists of keywords for (3) different educational disciplines.\n",
        "stem_kw_list = ['stem', 'mathematics', 'software', 'engineering', 'science', 'psychology']\n",
        "social_sci_kw_list = ['history', 'political', 'social']\n",
        "crim_just_kw_list = ['criminal', 'justice', 'policing', 'law']\n",
        "\n",
        "# Counts number of students in multiple disciplines using keywords\n",
        "stem_stud_count = 0\n",
        "social_sci_stud_count = 0\n",
        "crim_just_stud_count = 0\n",
        "other_stud_count = 0\n",
        "\n",
        "for student_edu in edu_list:\n",
        "  # Creates a list from the response with each element being (1) word with punctuation\n",
        "  kw_list = student_edu.split()\n",
        "\n",
        "  # Removes any commas or periods or other punctuation around keywords.\n",
        "  np_kw_list = [strip_all(word) for word in kw_list]\n",
        "\n",
        "  # for loop checks to see if a student gave keyword responses to (3) different educational backgrounds.\n",
        "  for kw in np_kw_list:\n",
        "\n",
        "    # Checks for STEM words WITHOUT social science terms.\n",
        "    if kw in stem_kw_list and kw != 'political' and kw != 'social':\n",
        "      stem_stud_count += 1\n",
        "      break\n",
        "\n",
        "    # Checks for social science terms\n",
        "    elif kw in social_sci_kw_list:\n",
        "      social_sci_stud_count += 1\n",
        "      break\n",
        "\n",
        "    # Checks for criminal justice terms\n",
        "    elif kw in crim_just_kw_list:\n",
        "      crim_just_stud_count += 1\n",
        "      break\n",
        "\n",
        "    # Continues with next word if word is not a \"keyword\" and increments other_stud count if on last word.\n",
        "    elif kw is np_kw_list[len(np_kw_list)-1]:\n",
        "        other_stud_count += 1\n",
        "        break\n",
        "    continue\n",
        "\n",
        "# Prints results\n",
        "print(\"STEM Students: \", stem_stud_count)\n",
        "print(\"Social Science Students: \", social_sci_stud_count)\n",
        "print(\"Criminal Justice Students: \", crim_just_stud_count)\n",
        "print(\"Other Students: \", other_stud_count)\n",
        "print(\"Total Students: \", len(edu_list))\n"
      ],
      "metadata": {
        "id": "F3t7u2_Or-9X",
        "outputId": "32c67abb-cd8f-4d14-df3c-3ffab03283f4",
        "colab": {
          "base_uri": "https://localhost:8080/"
        }
      },
      "execution_count": 42,
      "outputs": [
        {
          "output_type": "stream",
          "name": "stdout",
          "text": [
            "STEM Students:  19\n",
            "Social Science Students:  1\n",
            "Criminal Justice Students:  1\n",
            "Other Students:  0\n",
            "Total Students:  21\n"
          ]
        }
      ]
    },
    {
      "cell_type": "markdown",
      "source": [
        "## Step 4: Explore Job Function\n",
        "\n",
        "> * Analyzing our students' full-time employment fields."
      ],
      "metadata": {
        "id": "VFVBbabesPZB"
      }
    },
    {
      "cell_type": "code",
      "source": [
        "# Gathers job field data from responses.\n",
        "job_list = list(df['2. My primary job function'])\n",
        "\n",
        "# Starts counting responses per (3) different responses from job-field question.\n",
        "f_t_stud_count = 0\n",
        "tech_engi_count = 0\n",
        "busi_count = 0\n",
        "\n",
        "for job in job_list:\n",
        "  if job == 'Full-time Student':\n",
        "    f_t_stud_count += 1\n",
        "  elif job == 'Technology/engineering-oriented':\n",
        "    tech_engi_count += 1\n",
        "  elif job == 'Business/service-oriented':\n",
        "    busi_count += 1\n",
        "\n",
        "# Prints results\n",
        "print('Full-time Student Count: ', f_t_stud_count)\n",
        "print('Students Working In Tech/Engineering Fields: ', tech_engi_count)\n",
        "print('Students Working In Business/Service Fields: ', busi_count)\n",
        "print(\"Total Students: \", len(job_list))\n",
        "\n"
      ],
      "metadata": {
        "id": "mpbsO7S8qKI1",
        "outputId": "5cfeecd5-5b9d-464a-9646-59feaf87acbe",
        "colab": {
          "base_uri": "https://localhost:8080/"
        }
      },
      "execution_count": 43,
      "outputs": [
        {
          "output_type": "stream",
          "name": "stdout",
          "text": [
            "Full-time Student Count:  17\n",
            "Students Working In Tech/Engineering Fields:  2\n",
            "Students Working In Business/Service Fields:  2\n",
            "Total Students:  21\n"
          ]
        }
      ]
    },
    {
      "cell_type": "markdown",
      "source": [
        "## Step 5: Explore How Many Students Wanted 'Statistics' review\n",
        "\n",
        "> * Using similar techniques from 'Explore Educational Background,' I explore how many students suggested that they wanted to review Statistics in this course."
      ],
      "metadata": {
        "id": "ioru1bDjtLMW"
      }
    },
    {
      "cell_type": "code",
      "source": [
        "# Gathers responses regarding what students hope to get out of the course.\n",
        "why_list = list(df['10. What do you expect to get out of this course?'])\n",
        "\n",
        "# Lists of keywords suggesting review of Statistics.\n",
        "stats_kw_list = ['statistics', 'statistical', 'stats', 'statistically']\n",
        "review_kw_list = ['learn', 'review', 'brush', 'basics', 'hands-on', 'experience', 'knowledge', 'understanding']\n",
        "\n",
        "# Counts number of students wanting to review Statistics.\n",
        "stat_review_stud_count = 0\n",
        "\n",
        "for stud_why in why_list:\n",
        "\n",
        "  # Assign flags to be True if and only if they responded suggesting a review of Statistics.\n",
        "  stats_flag = False\n",
        "  review_flag = False\n",
        "\n",
        "  # Creates a list of str from the student's response with each element being (1) keyword with punctuation.\n",
        "  kw_list = stud_why.split()\n",
        "\n",
        "  # Removes any commas or periods or other punctuation around keywords.\n",
        "  np_kw_list = [strip_all(word) for word in kw_list]\n",
        "\n",
        "  # for loop checks to see if student gave keyword responses for Statistics and review.\n",
        "  for kw in np_kw_list:\n",
        "\n",
        "    # Checks if Statistics was mentioned.\n",
        "    if kw in stats_kw_list:\n",
        "      stats_flag = True\n",
        "      continue\n",
        "\n",
        "    # Checks for keywords suggesting a \"review\"\n",
        "    elif kw in review_kw_list:\n",
        "      review_flag = True\n",
        "      continue\n",
        "\n",
        "    # Breaks inner loop if both flags are true and increments count of students.\n",
        "    if stats_flag == True and review_flag == True:\n",
        "      stat_review_stud_count += 1\n",
        "      break\n",
        "\n",
        "# Prints results and calculates the rounded percentage of students wanting a review of statistics\n",
        "print(\"Number of Students Wanting Review of Statistics: \", stat_review_stud_count)\n",
        "print(\"Total Students: \", len(why_list))\n",
        "print(str(round(float(stat_review_stud_count/len(why_list))*100)) + '%', 'of students')\n",
        "\n",
        "\n",
        "\n",
        "\n"
      ],
      "metadata": {
        "id": "Vxx7yx6-tJ3-",
        "outputId": "d57b0024-59b6-4ea5-9f97-1648173b3c8f",
        "colab": {
          "base_uri": "https://localhost:8080/"
        }
      },
      "execution_count": null,
      "outputs": [
        {
          "output_type": "stream",
          "name": "stdout",
          "text": [
            "Number of Students Wanting Review of Statistics:  10\n",
            "Total Students:  21\n",
            "48% of students\n"
          ]
        }
      ]
    }
  ]
}
