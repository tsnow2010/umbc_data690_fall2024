{
  "nbformat": 4,
  "nbformat_minor": 0,
  "metadata": {
    "colab": {
      "provenance": [],
      "include_colab_link": true
    },
    "kernelspec": {
      "name": "python3",
      "display_name": "Python 3"
    },
    "language_info": {
      "name": "python"
    }
  },
  "cells": [
    {
      "cell_type": "markdown",
      "metadata": {
        "id": "view-in-github",
        "colab_type": "text"
      },
      "source": [
        "<a href=\"https://colab.research.google.com/github/tsnow2010/umbc_data690_fall2024/blob/main/Assignments/Assignment_10.ipynb\" target=\"_parent\"><img src=\"https://colab.research.google.com/assets/colab-badge.svg\" alt=\"Open In Colab\"/></a>"
      ]
    },
    {
      "cell_type": "markdown",
      "source": [
        "# Assignment 10 - Mini Project\n",
        "\n",
        "Comparing the economy and wealth of G7 countries and BRICS countries.\n",
        "\n",
        "Use http://g7brics.streamlit.app as the reference.\n",
        "\n",
        "Make sure your check your calculation, aggregation, and visualization with the reference site for correctness.\n",
        "\n",
        "For visualization, pay attention to details - color, label, information display."
      ],
      "metadata": {
        "id": "LHbgUqH9xr_N"
      }
    },
    {
      "cell_type": "code",
      "source": [
        "# Before aggregating, assign the groups, i.e. G7, BRICS, REST OF THE WORLD.\n",
        "\n",
        "# Check out source code for help and ideas!   https://github.com/wcj365/g7brics/tree/main/g7brics_app\n",
        "\n"
      ],
      "metadata": {
        "id": "3m8ezdpQCUlj"
      },
      "execution_count": null,
      "outputs": []
    },
    {
      "cell_type": "markdown",
      "source": [
        "## Step 1 - Import Python libraries"
      ],
      "metadata": {
        "id": "I1yAaGjqyFdx"
      }
    },
    {
      "cell_type": "code",
      "source": [
        "import pandas as pd\n",
        "import plotly.express as px\n",
        "import csv"
      ],
      "metadata": {
        "id": "D7D2C_7MAwJy"
      },
      "execution_count": 2,
      "outputs": []
    },
    {
      "cell_type": "markdown",
      "source": [
        "## Step 2 - Load the input dataset\n",
        "\n",
        "Download the individaul countries data from the reference site and upload it to your GitHub folder. Load the dataset directly from your GitHub."
      ],
      "metadata": {
        "id": "nAQJfmiDyMH_"
      }
    },
    {
      "cell_type": "code",
      "source": [
        "df = pd.read_csv('https://raw.githubusercontent.com/tsnow2010/umbc_data690_fall2024/refs/heads/main/Assignments/data/mini_project_data.csv')"
      ],
      "metadata": {
        "id": "VDX0BYJFA5ds"
      },
      "execution_count": 23,
      "outputs": []
    },
    {
      "cell_type": "markdown",
      "source": [
        "## Step 3 - Explore the input dataset\n",
        "\n",
        "- Display number of rows and columns\n",
        "- Dispaly at first 5 rows, last 5 rows, and random 5 rows.\n",
        "- Display information about the dataset\n",
        "- For all numerical variables, display their summary statistics\n",
        "- For all categorical variables, display their number of categories and most frequent category\n",
        "- Find out how many countries each region has.\n",
        "- Display all countries that are Latin American & Caribbean.\n",
        "- Find out how many countries each income level has.\n",
        "- Display all countries that are of high income.\n"
      ],
      "metadata": {
        "id": "m9k8OE_VzDII"
      }
    },
    {
      "cell_type": "code",
      "source": [
        "df.shape"
      ],
      "metadata": {
        "id": "zMk6zQrajO_D"
      },
      "execution_count": null,
      "outputs": []
    },
    {
      "cell_type": "code",
      "source": [
        "df.head(5)"
      ],
      "metadata": {
        "id": "KakGHkXuBbtF",
        "colab": {
          "base_uri": "https://localhost:8080/",
          "height": 417
        },
        "outputId": "a32e5621-de02-4666-e226-1cf2e1cca95d"
      },
      "execution_count": 6,
      "outputs": [
        {
          "output_type": "execute_result",
          "data": {
            "text/plain": [
              "   Unnamed: 0  Year Country Code Country Name                      Region  \\\n",
              "0           0  2000          ABW        Aruba  Latin America & Caribbean    \n",
              "1           1  2000          AFG  Afghanistan                  South Asia   \n",
              "2           2  2000          AGO       Angola         Sub-Saharan Africa    \n",
              "3           3  2000          ALB      Albania       Europe & Central Asia   \n",
              "4           4  2000          AND      Andorra       Europe & Central Asia   \n",
              "\n",
              "          Income Group    Lending Type  Military Expenditure ($Millions)  \\\n",
              "0          High income  Not classified                               NaN   \n",
              "1           Low income             IDA                               NaN   \n",
              "2  Lower middle income            IBRD                        583.621334   \n",
              "3  Upper middle income            IBRD                         45.362503   \n",
              "4          High income  Not classified                               NaN   \n",
              "\n",
              "   Military Expenditure (% of GDP)  GDP ($Billions)  GDP PPP ($Billions)  \\\n",
              "0                              NaN         1.873453             2.739898   \n",
              "1                              NaN         3.521418            16.377033   \n",
              "2                         6.392603         9.129595            53.876765   \n",
              "3                         1.246360         3.480355            11.927686   \n",
              "4                              NaN         1.432606             2.197696   \n",
              "\n",
              "   GDP Per Capita ($)  GDP Per Capita PPP ($)  \\\n",
              "0        21026.167091            30750.475341   \n",
              "1          180.188369              838.000705   \n",
              "2          556.884253             3286.358493   \n",
              "3         1126.683340             3861.308568   \n",
              "4        21674.299722            33249.564905   \n",
              "\n",
              "   Suicide Mortality Rate (Per 100K People)  Life Expectancy at Birth (Years)  \\\n",
              "0                                       NaN                            73.569   \n",
              "1                                       4.9                            55.298   \n",
              "2                                       8.7                            46.024   \n",
              "3                                       4.9                            75.404   \n",
              "4                                       NaN                               NaN   \n",
              "\n",
              "   Population (Millions)          Group  \n",
              "0               0.089101  REST OF WORLD  \n",
              "1              19.542982  REST OF WORLD  \n",
              "2              16.394062  REST OF WORLD  \n",
              "3               3.089027  REST OF WORLD  \n",
              "4               0.066097  REST OF WORLD  "
            ],
            "text/html": [
              "\n",
              "  <div id=\"df-983e53ca-a072-46f3-87cc-c502d8e8a5df\" class=\"colab-df-container\">\n",
              "    <div>\n",
              "<style scoped>\n",
              "    .dataframe tbody tr th:only-of-type {\n",
              "        vertical-align: middle;\n",
              "    }\n",
              "\n",
              "    .dataframe tbody tr th {\n",
              "        vertical-align: top;\n",
              "    }\n",
              "\n",
              "    .dataframe thead th {\n",
              "        text-align: right;\n",
              "    }\n",
              "</style>\n",
              "<table border=\"1\" class=\"dataframe\">\n",
              "  <thead>\n",
              "    <tr style=\"text-align: right;\">\n",
              "      <th></th>\n",
              "      <th>Unnamed: 0</th>\n",
              "      <th>Year</th>\n",
              "      <th>Country Code</th>\n",
              "      <th>Country Name</th>\n",
              "      <th>Region</th>\n",
              "      <th>Income Group</th>\n",
              "      <th>Lending Type</th>\n",
              "      <th>Military Expenditure ($Millions)</th>\n",
              "      <th>Military Expenditure (% of GDP)</th>\n",
              "      <th>GDP ($Billions)</th>\n",
              "      <th>GDP PPP ($Billions)</th>\n",
              "      <th>GDP Per Capita ($)</th>\n",
              "      <th>GDP Per Capita PPP ($)</th>\n",
              "      <th>Suicide Mortality Rate (Per 100K People)</th>\n",
              "      <th>Life Expectancy at Birth (Years)</th>\n",
              "      <th>Population (Millions)</th>\n",
              "      <th>Group</th>\n",
              "    </tr>\n",
              "  </thead>\n",
              "  <tbody>\n",
              "    <tr>\n",
              "      <th>0</th>\n",
              "      <td>0</td>\n",
              "      <td>2000</td>\n",
              "      <td>ABW</td>\n",
              "      <td>Aruba</td>\n",
              "      <td>Latin America &amp; Caribbean</td>\n",
              "      <td>High income</td>\n",
              "      <td>Not classified</td>\n",
              "      <td>NaN</td>\n",
              "      <td>NaN</td>\n",
              "      <td>1.873453</td>\n",
              "      <td>2.739898</td>\n",
              "      <td>21026.167091</td>\n",
              "      <td>30750.475341</td>\n",
              "      <td>NaN</td>\n",
              "      <td>73.569</td>\n",
              "      <td>0.089101</td>\n",
              "      <td>REST OF WORLD</td>\n",
              "    </tr>\n",
              "    <tr>\n",
              "      <th>1</th>\n",
              "      <td>1</td>\n",
              "      <td>2000</td>\n",
              "      <td>AFG</td>\n",
              "      <td>Afghanistan</td>\n",
              "      <td>South Asia</td>\n",
              "      <td>Low income</td>\n",
              "      <td>IDA</td>\n",
              "      <td>NaN</td>\n",
              "      <td>NaN</td>\n",
              "      <td>3.521418</td>\n",
              "      <td>16.377033</td>\n",
              "      <td>180.188369</td>\n",
              "      <td>838.000705</td>\n",
              "      <td>4.9</td>\n",
              "      <td>55.298</td>\n",
              "      <td>19.542982</td>\n",
              "      <td>REST OF WORLD</td>\n",
              "    </tr>\n",
              "    <tr>\n",
              "      <th>2</th>\n",
              "      <td>2</td>\n",
              "      <td>2000</td>\n",
              "      <td>AGO</td>\n",
              "      <td>Angola</td>\n",
              "      <td>Sub-Saharan Africa</td>\n",
              "      <td>Lower middle income</td>\n",
              "      <td>IBRD</td>\n",
              "      <td>583.621334</td>\n",
              "      <td>6.392603</td>\n",
              "      <td>9.129595</td>\n",
              "      <td>53.876765</td>\n",
              "      <td>556.884253</td>\n",
              "      <td>3286.358493</td>\n",
              "      <td>8.7</td>\n",
              "      <td>46.024</td>\n",
              "      <td>16.394062</td>\n",
              "      <td>REST OF WORLD</td>\n",
              "    </tr>\n",
              "    <tr>\n",
              "      <th>3</th>\n",
              "      <td>3</td>\n",
              "      <td>2000</td>\n",
              "      <td>ALB</td>\n",
              "      <td>Albania</td>\n",
              "      <td>Europe &amp; Central Asia</td>\n",
              "      <td>Upper middle income</td>\n",
              "      <td>IBRD</td>\n",
              "      <td>45.362503</td>\n",
              "      <td>1.246360</td>\n",
              "      <td>3.480355</td>\n",
              "      <td>11.927686</td>\n",
              "      <td>1126.683340</td>\n",
              "      <td>3861.308568</td>\n",
              "      <td>4.9</td>\n",
              "      <td>75.404</td>\n",
              "      <td>3.089027</td>\n",
              "      <td>REST OF WORLD</td>\n",
              "    </tr>\n",
              "    <tr>\n",
              "      <th>4</th>\n",
              "      <td>4</td>\n",
              "      <td>2000</td>\n",
              "      <td>AND</td>\n",
              "      <td>Andorra</td>\n",
              "      <td>Europe &amp; Central Asia</td>\n",
              "      <td>High income</td>\n",
              "      <td>Not classified</td>\n",
              "      <td>NaN</td>\n",
              "      <td>NaN</td>\n",
              "      <td>1.432606</td>\n",
              "      <td>2.197696</td>\n",
              "      <td>21674.299722</td>\n",
              "      <td>33249.564905</td>\n",
              "      <td>NaN</td>\n",
              "      <td>NaN</td>\n",
              "      <td>0.066097</td>\n",
              "      <td>REST OF WORLD</td>\n",
              "    </tr>\n",
              "  </tbody>\n",
              "</table>\n",
              "</div>\n",
              "    <div class=\"colab-df-buttons\">\n",
              "\n",
              "  <div class=\"colab-df-container\">\n",
              "    <button class=\"colab-df-convert\" onclick=\"convertToInteractive('df-983e53ca-a072-46f3-87cc-c502d8e8a5df')\"\n",
              "            title=\"Convert this dataframe to an interactive table.\"\n",
              "            style=\"display:none;\">\n",
              "\n",
              "  <svg xmlns=\"http://www.w3.org/2000/svg\" height=\"24px\" viewBox=\"0 -960 960 960\">\n",
              "    <path d=\"M120-120v-720h720v720H120Zm60-500h600v-160H180v160Zm220 220h160v-160H400v160Zm0 220h160v-160H400v160ZM180-400h160v-160H180v160Zm440 0h160v-160H620v160ZM180-180h160v-160H180v160Zm440 0h160v-160H620v160Z\"/>\n",
              "  </svg>\n",
              "    </button>\n",
              "\n",
              "  <style>\n",
              "    .colab-df-container {\n",
              "      display:flex;\n",
              "      gap: 12px;\n",
              "    }\n",
              "\n",
              "    .colab-df-convert {\n",
              "      background-color: #E8F0FE;\n",
              "      border: none;\n",
              "      border-radius: 50%;\n",
              "      cursor: pointer;\n",
              "      display: none;\n",
              "      fill: #1967D2;\n",
              "      height: 32px;\n",
              "      padding: 0 0 0 0;\n",
              "      width: 32px;\n",
              "    }\n",
              "\n",
              "    .colab-df-convert:hover {\n",
              "      background-color: #E2EBFA;\n",
              "      box-shadow: 0px 1px 2px rgba(60, 64, 67, 0.3), 0px 1px 3px 1px rgba(60, 64, 67, 0.15);\n",
              "      fill: #174EA6;\n",
              "    }\n",
              "\n",
              "    .colab-df-buttons div {\n",
              "      margin-bottom: 4px;\n",
              "    }\n",
              "\n",
              "    [theme=dark] .colab-df-convert {\n",
              "      background-color: #3B4455;\n",
              "      fill: #D2E3FC;\n",
              "    }\n",
              "\n",
              "    [theme=dark] .colab-df-convert:hover {\n",
              "      background-color: #434B5C;\n",
              "      box-shadow: 0px 1px 3px 1px rgba(0, 0, 0, 0.15);\n",
              "      filter: drop-shadow(0px 1px 2px rgba(0, 0, 0, 0.3));\n",
              "      fill: #FFFFFF;\n",
              "    }\n",
              "  </style>\n",
              "\n",
              "    <script>\n",
              "      const buttonEl =\n",
              "        document.querySelector('#df-983e53ca-a072-46f3-87cc-c502d8e8a5df button.colab-df-convert');\n",
              "      buttonEl.style.display =\n",
              "        google.colab.kernel.accessAllowed ? 'block' : 'none';\n",
              "\n",
              "      async function convertToInteractive(key) {\n",
              "        const element = document.querySelector('#df-983e53ca-a072-46f3-87cc-c502d8e8a5df');\n",
              "        const dataTable =\n",
              "          await google.colab.kernel.invokeFunction('convertToInteractive',\n",
              "                                                    [key], {});\n",
              "        if (!dataTable) return;\n",
              "\n",
              "        const docLinkHtml = 'Like what you see? Visit the ' +\n",
              "          '<a target=\"_blank\" href=https://colab.research.google.com/notebooks/data_table.ipynb>data table notebook</a>'\n",
              "          + ' to learn more about interactive tables.';\n",
              "        element.innerHTML = '';\n",
              "        dataTable['output_type'] = 'display_data';\n",
              "        await google.colab.output.renderOutput(dataTable, element);\n",
              "        const docLink = document.createElement('div');\n",
              "        docLink.innerHTML = docLinkHtml;\n",
              "        element.appendChild(docLink);\n",
              "      }\n",
              "    </script>\n",
              "  </div>\n",
              "\n",
              "\n",
              "<div id=\"df-59200cb6-9288-4cd9-a463-29d75132f037\">\n",
              "  <button class=\"colab-df-quickchart\" onclick=\"quickchart('df-59200cb6-9288-4cd9-a463-29d75132f037')\"\n",
              "            title=\"Suggest charts\"\n",
              "            style=\"display:none;\">\n",
              "\n",
              "<svg xmlns=\"http://www.w3.org/2000/svg\" height=\"24px\"viewBox=\"0 0 24 24\"\n",
              "     width=\"24px\">\n",
              "    <g>\n",
              "        <path d=\"M19 3H5c-1.1 0-2 .9-2 2v14c0 1.1.9 2 2 2h14c1.1 0 2-.9 2-2V5c0-1.1-.9-2-2-2zM9 17H7v-7h2v7zm4 0h-2V7h2v10zm4 0h-2v-4h2v4z\"/>\n",
              "    </g>\n",
              "</svg>\n",
              "  </button>\n",
              "\n",
              "<style>\n",
              "  .colab-df-quickchart {\n",
              "      --bg-color: #E8F0FE;\n",
              "      --fill-color: #1967D2;\n",
              "      --hover-bg-color: #E2EBFA;\n",
              "      --hover-fill-color: #174EA6;\n",
              "      --disabled-fill-color: #AAA;\n",
              "      --disabled-bg-color: #DDD;\n",
              "  }\n",
              "\n",
              "  [theme=dark] .colab-df-quickchart {\n",
              "      --bg-color: #3B4455;\n",
              "      --fill-color: #D2E3FC;\n",
              "      --hover-bg-color: #434B5C;\n",
              "      --hover-fill-color: #FFFFFF;\n",
              "      --disabled-bg-color: #3B4455;\n",
              "      --disabled-fill-color: #666;\n",
              "  }\n",
              "\n",
              "  .colab-df-quickchart {\n",
              "    background-color: var(--bg-color);\n",
              "    border: none;\n",
              "    border-radius: 50%;\n",
              "    cursor: pointer;\n",
              "    display: none;\n",
              "    fill: var(--fill-color);\n",
              "    height: 32px;\n",
              "    padding: 0;\n",
              "    width: 32px;\n",
              "  }\n",
              "\n",
              "  .colab-df-quickchart:hover {\n",
              "    background-color: var(--hover-bg-color);\n",
              "    box-shadow: 0 1px 2px rgba(60, 64, 67, 0.3), 0 1px 3px 1px rgba(60, 64, 67, 0.15);\n",
              "    fill: var(--button-hover-fill-color);\n",
              "  }\n",
              "\n",
              "  .colab-df-quickchart-complete:disabled,\n",
              "  .colab-df-quickchart-complete:disabled:hover {\n",
              "    background-color: var(--disabled-bg-color);\n",
              "    fill: var(--disabled-fill-color);\n",
              "    box-shadow: none;\n",
              "  }\n",
              "\n",
              "  .colab-df-spinner {\n",
              "    border: 2px solid var(--fill-color);\n",
              "    border-color: transparent;\n",
              "    border-bottom-color: var(--fill-color);\n",
              "    animation:\n",
              "      spin 1s steps(1) infinite;\n",
              "  }\n",
              "\n",
              "  @keyframes spin {\n",
              "    0% {\n",
              "      border-color: transparent;\n",
              "      border-bottom-color: var(--fill-color);\n",
              "      border-left-color: var(--fill-color);\n",
              "    }\n",
              "    20% {\n",
              "      border-color: transparent;\n",
              "      border-left-color: var(--fill-color);\n",
              "      border-top-color: var(--fill-color);\n",
              "    }\n",
              "    30% {\n",
              "      border-color: transparent;\n",
              "      border-left-color: var(--fill-color);\n",
              "      border-top-color: var(--fill-color);\n",
              "      border-right-color: var(--fill-color);\n",
              "    }\n",
              "    40% {\n",
              "      border-color: transparent;\n",
              "      border-right-color: var(--fill-color);\n",
              "      border-top-color: var(--fill-color);\n",
              "    }\n",
              "    60% {\n",
              "      border-color: transparent;\n",
              "      border-right-color: var(--fill-color);\n",
              "    }\n",
              "    80% {\n",
              "      border-color: transparent;\n",
              "      border-right-color: var(--fill-color);\n",
              "      border-bottom-color: var(--fill-color);\n",
              "    }\n",
              "    90% {\n",
              "      border-color: transparent;\n",
              "      border-bottom-color: var(--fill-color);\n",
              "    }\n",
              "  }\n",
              "</style>\n",
              "\n",
              "  <script>\n",
              "    async function quickchart(key) {\n",
              "      const quickchartButtonEl =\n",
              "        document.querySelector('#' + key + ' button');\n",
              "      quickchartButtonEl.disabled = true;  // To prevent multiple clicks.\n",
              "      quickchartButtonEl.classList.add('colab-df-spinner');\n",
              "      try {\n",
              "        const charts = await google.colab.kernel.invokeFunction(\n",
              "            'suggestCharts', [key], {});\n",
              "      } catch (error) {\n",
              "        console.error('Error during call to suggestCharts:', error);\n",
              "      }\n",
              "      quickchartButtonEl.classList.remove('colab-df-spinner');\n",
              "      quickchartButtonEl.classList.add('colab-df-quickchart-complete');\n",
              "    }\n",
              "    (() => {\n",
              "      let quickchartButtonEl =\n",
              "        document.querySelector('#df-59200cb6-9288-4cd9-a463-29d75132f037 button');\n",
              "      quickchartButtonEl.style.display =\n",
              "        google.colab.kernel.accessAllowed ? 'block' : 'none';\n",
              "    })();\n",
              "  </script>\n",
              "</div>\n",
              "\n",
              "    </div>\n",
              "  </div>\n"
            ],
            "application/vnd.google.colaboratory.intrinsic+json": {
              "type": "dataframe",
              "variable_name": "df",
              "summary": "{\n  \"name\": \"df\",\n  \"rows\": 5208,\n  \"fields\": [\n    {\n      \"column\": \"Unnamed: 0\",\n      \"properties\": {\n        \"dtype\": \"number\",\n        \"std\": 1503,\n        \"min\": 0,\n        \"max\": 5207,\n        \"num_unique_values\": 5208,\n        \"samples\": [\n          468,\n          296,\n          4616\n        ],\n        \"semantic_type\": \"\",\n        \"description\": \"\"\n      }\n    },\n    {\n      \"column\": \"Year\",\n      \"properties\": {\n        \"dtype\": \"number\",\n        \"std\": 6,\n        \"min\": 2000,\n        \"max\": 2023,\n        \"num_unique_values\": 24,\n        \"samples\": [\n          2008,\n          2016,\n          2000\n        ],\n        \"semantic_type\": \"\",\n        \"description\": \"\"\n      }\n    },\n    {\n      \"column\": \"Country Code\",\n      \"properties\": {\n        \"dtype\": \"category\",\n        \"num_unique_values\": 217,\n        \"samples\": [\n          \"VCT\",\n          \"ZAF\",\n          \"MYS\"\n        ],\n        \"semantic_type\": \"\",\n        \"description\": \"\"\n      }\n    },\n    {\n      \"column\": \"Country Name\",\n      \"properties\": {\n        \"dtype\": \"category\",\n        \"num_unique_values\": 217,\n        \"samples\": [\n          \"St. Vincent and the Grenadines\",\n          \"South Africa\",\n          \"Malaysia\"\n        ],\n        \"semantic_type\": \"\",\n        \"description\": \"\"\n      }\n    },\n    {\n      \"column\": \"Region\",\n      \"properties\": {\n        \"dtype\": \"category\",\n        \"num_unique_values\": 7,\n        \"samples\": [\n          \"Latin America & Caribbean \",\n          \"South Asia\",\n          \"East Asia & Pacific\"\n        ],\n        \"semantic_type\": \"\",\n        \"description\": \"\"\n      }\n    },\n    {\n      \"column\": \"Income Group\",\n      \"properties\": {\n        \"dtype\": \"category\",\n        \"num_unique_values\": 5,\n        \"samples\": [\n          \"Low income\",\n          \"Not classified\",\n          \"Lower middle income\"\n        ],\n        \"semantic_type\": \"\",\n        \"description\": \"\"\n      }\n    },\n    {\n      \"column\": \"Lending Type\",\n      \"properties\": {\n        \"dtype\": \"category\",\n        \"num_unique_values\": 4,\n        \"samples\": [\n          \"IDA\",\n          \"Blend\",\n          \"Not classified\"\n        ],\n        \"semantic_type\": \"\",\n        \"description\": \"\"\n      }\n    },\n    {\n      \"column\": \"Military Expenditure ($Millions)\",\n      \"properties\": {\n        \"dtype\": \"number\",\n        \"std\": 53776.76184625495,\n        \"min\": 0.0,\n        \"max\": 876943.2,\n        \"num_unique_values\": 3453,\n        \"samples\": [\n          923.383084577114,\n          3.32353217179142,\n          9250.65019505852\n        ],\n        \"semantic_type\": \"\",\n        \"description\": \"\"\n      }\n    },\n    {\n      \"column\": \"Military Expenditure (% of GDP)\",\n      \"properties\": {\n        \"dtype\": \"number\",\n        \"std\": 1.772127379816464,\n        \"min\": 0.0163027941392356,\n        \"max\": 33.5465729986209,\n        \"num_unique_values\": 3428,\n        \"samples\": [\n          2.43125378739118,\n          1.1508330294867,\n          0.294294112206887\n        ],\n        \"semantic_type\": \"\",\n        \"description\": \"\"\n      }\n    },\n    {\n      \"column\": \"GDP ($Billions)\",\n      \"properties\": {\n        \"dtype\": \"number\",\n        \"std\": 1491.7803793437674,\n        \"min\": 0.013964732327114,\n        \"max\": 27360.935,\n        \"num_unique_values\": 4988,\n        \"samples\": [\n          10.3938337653651,\n          270.0792794195,\n          315.474615738598\n        ],\n        \"semantic_type\": \"\",\n        \"description\": \"\"\n      }\n    },\n    {\n      \"column\": \"GDP PPP ($Billions)\",\n      \"properties\": {\n        \"dtype\": \"number\",\n        \"std\": 1940.9466221153511,\n        \"min\": 0.0243207418917432,\n        \"max\": 34643.7068480199,\n        \"num_unique_values\": 4726,\n        \"samples\": [\n          9.92349855019194,\n          2.57364809531955,\n          0.033639344309408\n        ],\n        \"semantic_type\": \"\",\n        \"description\": \"\"\n      }\n    },\n    {\n      \"column\": \"GDP Per Capita ($)\",\n      \"properties\": {\n        \"dtype\": \"number\",\n        \"std\": 24393.384244713787,\n        \"min\": 110.460874721483,\n        \"max\": 240862.18244774,\n        \"num_unique_values\": 4988,\n        \"samples\": [\n          936.494137074972,\n          61396.417461176,\n          45140.7690772438\n        ],\n        \"semantic_type\": \"\",\n        \"description\": \"\"\n      }\n    },\n    {\n      \"column\": \"GDP Per Capita PPP ($)\",\n      \"properties\": {\n        \"dtype\": \"number\",\n        \"std\": 22069.21689586682,\n        \"min\": 420.318796492115,\n        \"max\": 163542.784469879,\n        \"num_unique_values\": 4726,\n        \"samples\": [\n          812.055172967895,\n          53103.2311011977,\n          3274.85828557321\n        ],\n        \"semantic_type\": \"\",\n        \"description\": \"\"\n      }\n    },\n    {\n      \"column\": \"Suicide Mortality Rate (Per 100K People)\",\n      \"properties\": {\n        \"dtype\": \"number\",\n        \"std\": 8.986045839264204,\n        \"min\": 0.0,\n        \"max\": 92.6,\n        \"num_unique_values\": 393,\n        \"samples\": [\n          16.1,\n          33.6,\n          15.7\n        ],\n        \"semantic_type\": \"\",\n        \"description\": \"\"\n      }\n    },\n    {\n      \"column\": \"Life Expectancy at Birth (Years)\",\n      \"properties\": {\n        \"dtype\": \"number\",\n        \"std\": 8.78946189233127,\n        \"min\": 41.957,\n        \"max\": 85.5326829268293,\n        \"num_unique_values\": 4497,\n        \"samples\": [\n          71.1634146341463,\n          80.790243902439,\n          73.291\n        ],\n        \"semantic_type\": \"\",\n        \"description\": \"\"\n      }\n    },\n    {\n      \"column\": \"Population (Millions)\",\n      \"properties\": {\n        \"dtype\": \"number\",\n        \"std\": 129.8285210229324,\n        \"min\": 0.009609,\n        \"max\": 1428.627663,\n        \"num_unique_values\": 5204,\n        \"samples\": [\n          0.147167,\n          11.871565,\n          3.620312\n        ],\n        \"semantic_type\": \"\",\n        \"description\": \"\"\n      }\n    },\n    {\n      \"column\": \"Group\",\n      \"properties\": {\n        \"dtype\": \"category\",\n        \"num_unique_values\": 3,\n        \"samples\": [\n          \"REST OF WORLD\",\n          \"BRICS\",\n          \"G7\"\n        ],\n        \"semantic_type\": \"\",\n        \"description\": \"\"\n      }\n    }\n  ]\n}"
            }
          },
          "metadata": {},
          "execution_count": 6
        }
      ]
    },
    {
      "cell_type": "code",
      "source": [
        "df.tail(5)"
      ],
      "metadata": {
        "id": "0AHLFncPBe88"
      },
      "execution_count": null,
      "outputs": []
    },
    {
      "cell_type": "code",
      "source": [
        "df.sample(5)"
      ],
      "metadata": {
        "id": "cRq-f7WNBmwI"
      },
      "execution_count": null,
      "outputs": []
    },
    {
      "cell_type": "code",
      "source": [
        "df.describe()"
      ],
      "metadata": {
        "id": "PyWcoW-kBpVS"
      },
      "execution_count": null,
      "outputs": []
    },
    {
      "cell_type": "code",
      "source": [
        "df.describe(include='any'). # categorical?"
      ],
      "metadata": {
        "id": "ukmO_TNwBsB3"
      },
      "execution_count": null,
      "outputs": []
    },
    {
      "cell_type": "code",
      "source": [
        "df[df['Year'] == 2010].groupby([\"Region\"])[\"Country Code\"].count()"
      ],
      "metadata": {
        "id": "cpoIFvexjSAH",
        "outputId": "493cd2f4-ff49-4f54-cb66-0ecd1ebfa947",
        "colab": {
          "base_uri": "https://localhost:8080/",
          "height": 355
        }
      },
      "execution_count": 26,
      "outputs": [
        {
          "output_type": "execute_result",
          "data": {
            "text/plain": [
              "Region\n",
              "East Asia & Pacific           37\n",
              "Europe & Central Asia         58\n",
              "Latin America & Caribbean     42\n",
              "Middle East & North Africa    21\n",
              "North America                  3\n",
              "South Asia                     8\n",
              "Sub-Saharan Africa            48\n",
              "Name: Country Code, dtype: int64"
            ],
            "text/html": [
              "<div>\n",
              "<style scoped>\n",
              "    .dataframe tbody tr th:only-of-type {\n",
              "        vertical-align: middle;\n",
              "    }\n",
              "\n",
              "    .dataframe tbody tr th {\n",
              "        vertical-align: top;\n",
              "    }\n",
              "\n",
              "    .dataframe thead th {\n",
              "        text-align: right;\n",
              "    }\n",
              "</style>\n",
              "<table border=\"1\" class=\"dataframe\">\n",
              "  <thead>\n",
              "    <tr style=\"text-align: right;\">\n",
              "      <th></th>\n",
              "      <th>Country Code</th>\n",
              "    </tr>\n",
              "    <tr>\n",
              "      <th>Region</th>\n",
              "      <th></th>\n",
              "    </tr>\n",
              "  </thead>\n",
              "  <tbody>\n",
              "    <tr>\n",
              "      <th>East Asia &amp; Pacific</th>\n",
              "      <td>37</td>\n",
              "    </tr>\n",
              "    <tr>\n",
              "      <th>Europe &amp; Central Asia</th>\n",
              "      <td>58</td>\n",
              "    </tr>\n",
              "    <tr>\n",
              "      <th>Latin America &amp; Caribbean</th>\n",
              "      <td>42</td>\n",
              "    </tr>\n",
              "    <tr>\n",
              "      <th>Middle East &amp; North Africa</th>\n",
              "      <td>21</td>\n",
              "    </tr>\n",
              "    <tr>\n",
              "      <th>North America</th>\n",
              "      <td>3</td>\n",
              "    </tr>\n",
              "    <tr>\n",
              "      <th>South Asia</th>\n",
              "      <td>8</td>\n",
              "    </tr>\n",
              "    <tr>\n",
              "      <th>Sub-Saharan Africa</th>\n",
              "      <td>48</td>\n",
              "    </tr>\n",
              "  </tbody>\n",
              "</table>\n",
              "</div><br><label><b>dtype:</b> int64</label>"
            ]
          },
          "metadata": {},
          "execution_count": 26
        }
      ]
    },
    {
      "cell_type": "code",
      "source": [
        "# Needs work\n",
        "df[df['Region'] == \"Latin America & Caribbean\"]"
      ],
      "metadata": {
        "id": "0MPVjvnjlZdd",
        "outputId": "489508ca-28cc-45f2-e4c4-7efe27776839",
        "colab": {
          "base_uri": "https://localhost:8080/",
          "height": 121
        }
      },
      "execution_count": 25,
      "outputs": [
        {
          "output_type": "execute_result",
          "data": {
            "text/plain": [
              "Empty DataFrame\n",
              "Columns: [Unnamed: 0, Year, Country Code, Country Name, Region, Income Group, Lending Type, Military Expenditure ($Millions), Military Expenditure (% of GDP), GDP ($Billions), GDP PPP ($Billions), GDP Per Capita ($), GDP Per Capita PPP ($), Suicide Mortality Rate (Per 100K People), Life Expectancy at Birth (Years), Population (Millions), Group]\n",
              "Index: []"
            ],
            "text/html": [
              "\n",
              "  <div id=\"df-6344ce2e-55c5-4382-845f-5f899c33251d\" class=\"colab-df-container\">\n",
              "    <div>\n",
              "<style scoped>\n",
              "    .dataframe tbody tr th:only-of-type {\n",
              "        vertical-align: middle;\n",
              "    }\n",
              "\n",
              "    .dataframe tbody tr th {\n",
              "        vertical-align: top;\n",
              "    }\n",
              "\n",
              "    .dataframe thead th {\n",
              "        text-align: right;\n",
              "    }\n",
              "</style>\n",
              "<table border=\"1\" class=\"dataframe\">\n",
              "  <thead>\n",
              "    <tr style=\"text-align: right;\">\n",
              "      <th></th>\n",
              "      <th>Unnamed: 0</th>\n",
              "      <th>Year</th>\n",
              "      <th>Country Code</th>\n",
              "      <th>Country Name</th>\n",
              "      <th>Region</th>\n",
              "      <th>Income Group</th>\n",
              "      <th>Lending Type</th>\n",
              "      <th>Military Expenditure ($Millions)</th>\n",
              "      <th>Military Expenditure (% of GDP)</th>\n",
              "      <th>GDP ($Billions)</th>\n",
              "      <th>GDP PPP ($Billions)</th>\n",
              "      <th>GDP Per Capita ($)</th>\n",
              "      <th>GDP Per Capita PPP ($)</th>\n",
              "      <th>Suicide Mortality Rate (Per 100K People)</th>\n",
              "      <th>Life Expectancy at Birth (Years)</th>\n",
              "      <th>Population (Millions)</th>\n",
              "      <th>Group</th>\n",
              "    </tr>\n",
              "  </thead>\n",
              "  <tbody>\n",
              "  </tbody>\n",
              "</table>\n",
              "</div>\n",
              "    <div class=\"colab-df-buttons\">\n",
              "\n",
              "  <div class=\"colab-df-container\">\n",
              "    <button class=\"colab-df-convert\" onclick=\"convertToInteractive('df-6344ce2e-55c5-4382-845f-5f899c33251d')\"\n",
              "            title=\"Convert this dataframe to an interactive table.\"\n",
              "            style=\"display:none;\">\n",
              "\n",
              "  <svg xmlns=\"http://www.w3.org/2000/svg\" height=\"24px\" viewBox=\"0 -960 960 960\">\n",
              "    <path d=\"M120-120v-720h720v720H120Zm60-500h600v-160H180v160Zm220 220h160v-160H400v160Zm0 220h160v-160H400v160ZM180-400h160v-160H180v160Zm440 0h160v-160H620v160ZM180-180h160v-160H180v160Zm440 0h160v-160H620v160Z\"/>\n",
              "  </svg>\n",
              "    </button>\n",
              "\n",
              "  <style>\n",
              "    .colab-df-container {\n",
              "      display:flex;\n",
              "      gap: 12px;\n",
              "    }\n",
              "\n",
              "    .colab-df-convert {\n",
              "      background-color: #E8F0FE;\n",
              "      border: none;\n",
              "      border-radius: 50%;\n",
              "      cursor: pointer;\n",
              "      display: none;\n",
              "      fill: #1967D2;\n",
              "      height: 32px;\n",
              "      padding: 0 0 0 0;\n",
              "      width: 32px;\n",
              "    }\n",
              "\n",
              "    .colab-df-convert:hover {\n",
              "      background-color: #E2EBFA;\n",
              "      box-shadow: 0px 1px 2px rgba(60, 64, 67, 0.3), 0px 1px 3px 1px rgba(60, 64, 67, 0.15);\n",
              "      fill: #174EA6;\n",
              "    }\n",
              "\n",
              "    .colab-df-buttons div {\n",
              "      margin-bottom: 4px;\n",
              "    }\n",
              "\n",
              "    [theme=dark] .colab-df-convert {\n",
              "      background-color: #3B4455;\n",
              "      fill: #D2E3FC;\n",
              "    }\n",
              "\n",
              "    [theme=dark] .colab-df-convert:hover {\n",
              "      background-color: #434B5C;\n",
              "      box-shadow: 0px 1px 3px 1px rgba(0, 0, 0, 0.15);\n",
              "      filter: drop-shadow(0px 1px 2px rgba(0, 0, 0, 0.3));\n",
              "      fill: #FFFFFF;\n",
              "    }\n",
              "  </style>\n",
              "\n",
              "    <script>\n",
              "      const buttonEl =\n",
              "        document.querySelector('#df-6344ce2e-55c5-4382-845f-5f899c33251d button.colab-df-convert');\n",
              "      buttonEl.style.display =\n",
              "        google.colab.kernel.accessAllowed ? 'block' : 'none';\n",
              "\n",
              "      async function convertToInteractive(key) {\n",
              "        const element = document.querySelector('#df-6344ce2e-55c5-4382-845f-5f899c33251d');\n",
              "        const dataTable =\n",
              "          await google.colab.kernel.invokeFunction('convertToInteractive',\n",
              "                                                    [key], {});\n",
              "        if (!dataTable) return;\n",
              "\n",
              "        const docLinkHtml = 'Like what you see? Visit the ' +\n",
              "          '<a target=\"_blank\" href=https://colab.research.google.com/notebooks/data_table.ipynb>data table notebook</a>'\n",
              "          + ' to learn more about interactive tables.';\n",
              "        element.innerHTML = '';\n",
              "        dataTable['output_type'] = 'display_data';\n",
              "        await google.colab.output.renderOutput(dataTable, element);\n",
              "        const docLink = document.createElement('div');\n",
              "        docLink.innerHTML = docLinkHtml;\n",
              "        element.appendChild(docLink);\n",
              "      }\n",
              "    </script>\n",
              "  </div>\n",
              "\n",
              "\n",
              "    </div>\n",
              "  </div>\n"
            ],
            "application/vnd.google.colaboratory.intrinsic+json": {
              "type": "dataframe",
              "repr_error": "Out of range float values are not JSON compliant: nan"
            }
          },
          "metadata": {},
          "execution_count": 25
        }
      ]
    },
    {
      "cell_type": "code",
      "source": [
        "df[df['Year'] == 2010].groupby([\"Income Group\"])[\"Country Code\"].count()"
      ],
      "metadata": {
        "id": "1C-CbfBwmMVT",
        "outputId": "e718deeb-b38f-494c-dc8b-8ac25787edc1",
        "colab": {
          "base_uri": "https://localhost:8080/",
          "height": 292
        }
      },
      "execution_count": 27,
      "outputs": [
        {
          "output_type": "execute_result",
          "data": {
            "text/plain": [
              "Income Group\n",
              "High income            85\n",
              "Low income             26\n",
              "Lower middle income    51\n",
              "Not classified          1\n",
              "Upper middle income    54\n",
              "Name: Country Code, dtype: int64"
            ],
            "text/html": [
              "<div>\n",
              "<style scoped>\n",
              "    .dataframe tbody tr th:only-of-type {\n",
              "        vertical-align: middle;\n",
              "    }\n",
              "\n",
              "    .dataframe tbody tr th {\n",
              "        vertical-align: top;\n",
              "    }\n",
              "\n",
              "    .dataframe thead th {\n",
              "        text-align: right;\n",
              "    }\n",
              "</style>\n",
              "<table border=\"1\" class=\"dataframe\">\n",
              "  <thead>\n",
              "    <tr style=\"text-align: right;\">\n",
              "      <th></th>\n",
              "      <th>Country Code</th>\n",
              "    </tr>\n",
              "    <tr>\n",
              "      <th>Income Group</th>\n",
              "      <th></th>\n",
              "    </tr>\n",
              "  </thead>\n",
              "  <tbody>\n",
              "    <tr>\n",
              "      <th>High income</th>\n",
              "      <td>85</td>\n",
              "    </tr>\n",
              "    <tr>\n",
              "      <th>Low income</th>\n",
              "      <td>26</td>\n",
              "    </tr>\n",
              "    <tr>\n",
              "      <th>Lower middle income</th>\n",
              "      <td>51</td>\n",
              "    </tr>\n",
              "    <tr>\n",
              "      <th>Not classified</th>\n",
              "      <td>1</td>\n",
              "    </tr>\n",
              "    <tr>\n",
              "      <th>Upper middle income</th>\n",
              "      <td>54</td>\n",
              "    </tr>\n",
              "  </tbody>\n",
              "</table>\n",
              "</div><br><label><b>dtype:</b> int64</label>"
            ]
          },
          "metadata": {},
          "execution_count": 27
        }
      ]
    },
    {
      "cell_type": "code",
      "source": [
        "# Displays number of rows but is there a better way?\n",
        "df[(df[\"Income Group\"] == 'High income') & (df[\"Year\"] == 2010)].count()"
      ],
      "metadata": {
        "id": "jiXFWqkzmXur",
        "outputId": "cc4c41a6-a557-494b-de31-e9cbe92e6614",
        "colab": {
          "base_uri": "https://localhost:8080/",
          "height": 637
        }
      },
      "execution_count": 33,
      "outputs": [
        {
          "output_type": "execute_result",
          "data": {
            "text/plain": [
              "Unnamed: 0                                  85\n",
              "Year                                        85\n",
              "Country Code                                85\n",
              "Country Name                                85\n",
              "Region                                      85\n",
              "Income Group                                85\n",
              "Lending Type                                85\n",
              "Military Expenditure ($Millions)            53\n",
              "Military Expenditure (% of GDP)             51\n",
              "GDP ($Billions)                             79\n",
              "GDP PPP ($Billions)                         72\n",
              "GDP Per Capita ($)                          79\n",
              "GDP Per Capita PPP ($)                      72\n",
              "Suicide Mortality Rate (Per 100K People)    56\n",
              "Life Expectancy at Birth (Years)            78\n",
              "Population (Millions)                       85\n",
              "Group                                       85\n",
              "dtype: int64"
            ],
            "text/html": [
              "<div>\n",
              "<style scoped>\n",
              "    .dataframe tbody tr th:only-of-type {\n",
              "        vertical-align: middle;\n",
              "    }\n",
              "\n",
              "    .dataframe tbody tr th {\n",
              "        vertical-align: top;\n",
              "    }\n",
              "\n",
              "    .dataframe thead th {\n",
              "        text-align: right;\n",
              "    }\n",
              "</style>\n",
              "<table border=\"1\" class=\"dataframe\">\n",
              "  <thead>\n",
              "    <tr style=\"text-align: right;\">\n",
              "      <th></th>\n",
              "      <th>0</th>\n",
              "    </tr>\n",
              "  </thead>\n",
              "  <tbody>\n",
              "    <tr>\n",
              "      <th>Unnamed: 0</th>\n",
              "      <td>85</td>\n",
              "    </tr>\n",
              "    <tr>\n",
              "      <th>Year</th>\n",
              "      <td>85</td>\n",
              "    </tr>\n",
              "    <tr>\n",
              "      <th>Country Code</th>\n",
              "      <td>85</td>\n",
              "    </tr>\n",
              "    <tr>\n",
              "      <th>Country Name</th>\n",
              "      <td>85</td>\n",
              "    </tr>\n",
              "    <tr>\n",
              "      <th>Region</th>\n",
              "      <td>85</td>\n",
              "    </tr>\n",
              "    <tr>\n",
              "      <th>Income Group</th>\n",
              "      <td>85</td>\n",
              "    </tr>\n",
              "    <tr>\n",
              "      <th>Lending Type</th>\n",
              "      <td>85</td>\n",
              "    </tr>\n",
              "    <tr>\n",
              "      <th>Military Expenditure ($Millions)</th>\n",
              "      <td>53</td>\n",
              "    </tr>\n",
              "    <tr>\n",
              "      <th>Military Expenditure (% of GDP)</th>\n",
              "      <td>51</td>\n",
              "    </tr>\n",
              "    <tr>\n",
              "      <th>GDP ($Billions)</th>\n",
              "      <td>79</td>\n",
              "    </tr>\n",
              "    <tr>\n",
              "      <th>GDP PPP ($Billions)</th>\n",
              "      <td>72</td>\n",
              "    </tr>\n",
              "    <tr>\n",
              "      <th>GDP Per Capita ($)</th>\n",
              "      <td>79</td>\n",
              "    </tr>\n",
              "    <tr>\n",
              "      <th>GDP Per Capita PPP ($)</th>\n",
              "      <td>72</td>\n",
              "    </tr>\n",
              "    <tr>\n",
              "      <th>Suicide Mortality Rate (Per 100K People)</th>\n",
              "      <td>56</td>\n",
              "    </tr>\n",
              "    <tr>\n",
              "      <th>Life Expectancy at Birth (Years)</th>\n",
              "      <td>78</td>\n",
              "    </tr>\n",
              "    <tr>\n",
              "      <th>Population (Millions)</th>\n",
              "      <td>85</td>\n",
              "    </tr>\n",
              "    <tr>\n",
              "      <th>Group</th>\n",
              "      <td>85</td>\n",
              "    </tr>\n",
              "  </tbody>\n",
              "</table>\n",
              "</div><br><label><b>dtype:</b> int64</label>"
            ]
          },
          "metadata": {},
          "execution_count": 33
        }
      ]
    },
    {
      "cell_type": "markdown",
      "source": [
        "## Step 4 - Categorize Each Country\n",
        "\n",
        "Create a new column \"Group\". If a country is one of the seven G7 countried, the value of \"Group\" would be \"G7\", if a country of one of the five BRICS countries, the value of \"Group\" would be \"BRICS\". Otherwise, the value of \"Group\" would be \"REST of WORLD\"."
      ],
      "metadata": {
        "id": "61gP6Yri0ufS"
      }
    },
    {
      "cell_type": "markdown",
      "source": [
        "## Step 5 - Aggregate Data\n",
        "\n",
        "Aggregate the following columns at the \"Group\" level for each year:\n",
        "\n",
        "- For GDP, using \"sum\" for aggregation.\n",
        "- For GDP Per Capita, use \"mean\" for aggregation.\n",
        "- Check your calculation with the reference site."
      ],
      "metadata": {
        "id": "9xcFvhYy1ogD"
      }
    },
    {
      "cell_type": "markdown",
      "source": [
        "## Step 6 - Calculate Percentage Share of GDP\n",
        "\n",
        "For each year, calculate the percentage share of each group's GDP. Check your calculation with the reference site."
      ],
      "metadata": {
        "id": "fG8tp1dG3BKp"
      }
    },
    {
      "cell_type": "markdown",
      "source": [
        "## Step 7 - Plot the GDP Percentage Share Over Time"
      ],
      "metadata": {
        "id": "rMaVSW5t4FeH"
      }
    },
    {
      "cell_type": "markdown",
      "source": [
        "## Step 8 - Plot the Total GDP Over Time"
      ],
      "metadata": {
        "id": "wtZPPw034cHT"
      }
    },
    {
      "cell_type": "markdown",
      "source": [
        "## Step 9 - Plot the 2023 GDP Pie Chart\n",
        "\n",
        "Each group is a slice of a pie. Make sure the following information is displayed for each slice:\n",
        "\n",
        "- Group Name\n",
        "- GDP Percentage Share\n",
        "- GDP Total"
      ],
      "metadata": {
        "id": "Kx9TTRPY4nxJ"
      }
    },
    {
      "cell_type": "markdown",
      "source": [
        "## Step 10 - Plot the 2023 GDP Pie Charts\n",
        "\n",
        "One pie chart for G7 and one pie chart for BRICK. Each country is a slice of a pie. Make sure the following information is displayed for each slice:\n",
        "\n",
        "- Country Name\n",
        "- GDP Percentage Share\n",
        "- GDP Total"
      ],
      "metadata": {
        "id": "0QNCa1la4wP9"
      }
    },
    {
      "cell_type": "markdown",
      "source": [
        "## Step 11 - Plot the 2023 GDP Sun Burst Chart\n",
        "\n",
        "Showing the hierarchy of Group and Country."
      ],
      "metadata": {
        "id": "KtGSDn8f68Bf"
      }
    },
    {
      "cell_type": "markdown",
      "source": [
        "## Step 12 - Plot the 2023 GDP Tree Map Chart\n",
        "\n",
        "Showing the hierarchy of Group and Country."
      ],
      "metadata": {
        "id": "uam6Xxl57Mmt"
      }
    },
    {
      "cell_type": "markdown",
      "source": [
        "## Step 13 - Plot the Historic Trend of GDP Per Capita"
      ],
      "metadata": {
        "id": "gOE2vx-G7eQA"
      }
    },
    {
      "cell_type": "markdown",
      "source": [
        "## Step 14 - Plot the 2023 GDP Per Capita Bar Chart\n",
        "\n",
        "Each group is a bar."
      ],
      "metadata": {
        "id": "1y9PbSwk7m60"
      }
    },
    {
      "cell_type": "markdown",
      "source": [
        "## Step 15 - Plot the 2023 GDP Per Capita Bar Chart of G7 and BRICS countries\n",
        "\n",
        "Each country is a bar. Differentiate group by color."
      ],
      "metadata": {
        "id": "XfhWUvPm70HG"
      }
    },
    {
      "cell_type": "code",
      "execution_count": null,
      "metadata": {
        "id": "fjaqVU1hxfX5"
      },
      "outputs": [],
      "source": []
    }
  ]
}