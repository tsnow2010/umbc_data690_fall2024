{
  "nbformat": 4,
  "nbformat_minor": 0,
  "metadata": {
    "colab": {
      "provenance": [],
      "authorship_tag": "ABX9TyPW3v9K3WinVyIrwAIieZsU",
      "include_colab_link": true
    },
    "kernelspec": {
      "name": "python3",
      "display_name": "Python 3"
    },
    "language_info": {
      "name": "python"
    }
  },
  "cells": [
    {
      "cell_type": "markdown",
      "metadata": {
        "id": "view-in-github",
        "colab_type": "text"
      },
      "source": [
        "<a href=\"https://colab.research.google.com/github/tsnow2010/umbc_data690_fall2024/blob/main/Pandas_Reference.ipynb\" target=\"_parent\"><img src=\"https://colab.research.google.com/assets/colab-badge.svg\" alt=\"Open In Colab\"/></a>"
      ]
    },
    {
      "cell_type": "markdown",
      "source": [
        "# List of common methods"
      ],
      "metadata": {
        "id": "hTz28RrMwjI3"
      }
    },
    {
      "cell_type": "code",
      "source": [
        "import pandas\n",
        "plotly.express import as px\n",
        "\n",
        "'''\n",
        "# Say df is a DataFrame in pd\n",
        "url = 'some_url_of_csv.csv'\n",
        "'''\n",
        "df = read_csv(url)\n",
        "df = df.index_reset(). # Turns a Series into Dataframe.  Plotly only uses DataFrames.\n",
        "df.to_string()\n",
        "\n",
        "\n",
        "fig = px.bar(df, x='column1',y'column2')\n",
        "fig.show()\n",
        "\n",
        "\n",
        "\n"
      ],
      "metadata": {
        "id": "GOHJr0WgwlwI"
      },
      "execution_count": null,
      "outputs": []
    }
  ]
}