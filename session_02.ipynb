{
  "nbformat": 4,
  "nbformat_minor": 0,
  "metadata": {
    "colab": {
      "provenance": [],
      "authorship_tag": "ABX9TyM0v5HYJ+SN7q3pzEe669Vf",
      "include_colab_link": true
    },
    "kernelspec": {
      "name": "python3",
      "display_name": "Python 3"
    },
    "language_info": {
      "name": "python"
    }
  },
  "cells": [
    {
      "cell_type": "markdown",
      "metadata": {
        "id": "view-in-github",
        "colab_type": "text"
      },
      "source": [
        "<a href=\"https://colab.research.google.com/github/tsnow2010/umbc_data690_fall2024/blob/main/session_02.ipynb\" target=\"_parent\"><img src=\"https://colab.research.google.com/assets/colab-badge.svg\" alt=\"Open In Colab\"/></a>"
      ]
    },
    {
      "cell_type": "markdown",
      "source": [
        "# UMBC DATA690 Fall 2024\n",
        "\n",
        "## Session 02"
      ],
      "metadata": {
        "id": "Sj_ExJiJY5al"
      }
    },
    {
      "cell_type": "markdown",
      "source": [
        "## Step 1: Load the Survey Response Data"
      ],
      "metadata": {
        "id": "d4JKnNwuc4pv"
      }
    },
    {
      "cell_type": "code",
      "source": [
        "import pandas as pd\n",
        "\n",
        "DATA_URL = 'https://raw.githubusercontent.com/wcj365/python-stats-dataviz/master/data/UMBC%20DATA%20690%20FALL%202024%20DR%20WANG%20Student%20Survey.csv'\n",
        "\n",
        "df = pd.read_csv(DATA_URL)\n",
        "\n",
        "df.shape\n",
        "df.head(5)\n",
        "df.tail(2)\n",
        "df.sample(3)\n",
        "\n",
        "#print(pd.DataFrame(df['Year']))"
      ],
      "metadata": {
        "colab": {
          "base_uri": "https://localhost:8080/",
          "height": 317
        },
        "id": "TDfOMl0xZiro",
        "outputId": "1f1c6859-64fb-44c2-f30d-83095ea1b020"
      },
      "execution_count": 25,
      "outputs": [
        {
          "output_type": "execute_result",
          "data": {
            "text/plain": [
              "                    Timestamp  \\\n",
              "0   2024/08/18 8:33:50 PM AST   \n",
              "13  2024/08/28 5:20:32 PM AST   \n",
              "12  2024/08/28 4:32:17 PM AST   \n",
              "\n",
              "                 1. My primary educational background  \\\n",
              "0       STEM (Science, Technology, Engineering, Math)   \n",
              "13      STEM (Science, Technology, Engineering, Math)   \n",
              "12  Social Science (History, Philosophy, Education...   \n",
              "\n",
              "   2. My primary job function 3. My level of computer programing knowledge  \\\n",
              "0           Full-time Student                                 Intermediate   \n",
              "13          Full-time Student                                 Intermediate   \n",
              "12  Business/service-oriented                                     Beginner   \n",
              "\n",
              "   4. My level of Python progrmming knowledge  \\\n",
              "0                                Intermediate   \n",
              "13                               Intermediate   \n",
              "12                                   Beginner   \n",
              "\n",
              "   5. My level of Statistics knowledge 6. My Familarity with GitHub  \\\n",
              "0                         Intermediate    I use GitHub occasionally   \n",
              "13                        Intermediate    I use GitHub occasionally   \n",
              "12                            Beginner           I don't use GitHub   \n",
              "\n",
              "   7. My gender 8. My Birth Year  \\\n",
              "0          Male             2000   \n",
              "13       Female         3/1/2001   \n",
              "12       Female             1998   \n",
              "\n",
              "   9. What do you enjoy doing in your leisure time?  \\\n",
              "0                 Use to do some personal projects    \n",
              "13                               I like read books    \n",
              "12                                       Crocheting   \n",
              "\n",
              "    10. What do you expect to get out of this course?  \\\n",
              "0                  Data analysis with proper visuals    \n",
              "13  Become a full expertise person in stats and vi...   \n",
              "12  A better understanding of statistics and python.    \n",
              "\n",
              "              11. What is your long-term career goal?  \\\n",
              "0                       I want to become a developer    \n",
              "13                              Become a data analyst   \n",
              "12  I want to find a career that gets to work with...   \n",
              "\n",
              "               12. Other courses taking this semester  \n",
              "0   HIT 664 : HEALTH IT LAW AND ETHICS , HEALTH 72...  \n",
              "13  This is the only subject I am taking this seme...  \n",
              "12                                                NaN  "
            ],
            "text/html": [
              "\n",
              "  <div id=\"df-158d6bab-1c9e-4098-b146-4d545cf0138b\" class=\"colab-df-container\">\n",
              "    <div>\n",
              "<style scoped>\n",
              "    .dataframe tbody tr th:only-of-type {\n",
              "        vertical-align: middle;\n",
              "    }\n",
              "\n",
              "    .dataframe tbody tr th {\n",
              "        vertical-align: top;\n",
              "    }\n",
              "\n",
              "    .dataframe thead th {\n",
              "        text-align: right;\n",
              "    }\n",
              "</style>\n",
              "<table border=\"1\" class=\"dataframe\">\n",
              "  <thead>\n",
              "    <tr style=\"text-align: right;\">\n",
              "      <th></th>\n",
              "      <th>Timestamp</th>\n",
              "      <th>1. My primary educational background</th>\n",
              "      <th>2. My primary job function</th>\n",
              "      <th>3. My level of computer programing knowledge</th>\n",
              "      <th>4. My level of Python progrmming knowledge</th>\n",
              "      <th>5. My level of Statistics knowledge</th>\n",
              "      <th>6. My Familarity with GitHub</th>\n",
              "      <th>7. My gender</th>\n",
              "      <th>8. My Birth Year</th>\n",
              "      <th>9. What do you enjoy doing in your leisure time?</th>\n",
              "      <th>10. What do you expect to get out of this course?</th>\n",
              "      <th>11. What is your long-term career goal?</th>\n",
              "      <th>12. Other courses taking this semester</th>\n",
              "    </tr>\n",
              "  </thead>\n",
              "  <tbody>\n",
              "    <tr>\n",
              "      <th>0</th>\n",
              "      <td>2024/08/18 8:33:50 PM AST</td>\n",
              "      <td>STEM (Science, Technology, Engineering, Math)</td>\n",
              "      <td>Full-time Student</td>\n",
              "      <td>Intermediate</td>\n",
              "      <td>Intermediate</td>\n",
              "      <td>Intermediate</td>\n",
              "      <td>I use GitHub occasionally</td>\n",
              "      <td>Male</td>\n",
              "      <td>2000</td>\n",
              "      <td>Use to do some personal projects</td>\n",
              "      <td>Data analysis with proper visuals</td>\n",
              "      <td>I want to become a developer</td>\n",
              "      <td>HIT 664 : HEALTH IT LAW AND ETHICS , HEALTH 72...</td>\n",
              "    </tr>\n",
              "    <tr>\n",
              "      <th>13</th>\n",
              "      <td>2024/08/28 5:20:32 PM AST</td>\n",
              "      <td>STEM (Science, Technology, Engineering, Math)</td>\n",
              "      <td>Full-time Student</td>\n",
              "      <td>Intermediate</td>\n",
              "      <td>Intermediate</td>\n",
              "      <td>Intermediate</td>\n",
              "      <td>I use GitHub occasionally</td>\n",
              "      <td>Female</td>\n",
              "      <td>3/1/2001</td>\n",
              "      <td>I like read books</td>\n",
              "      <td>Become a full expertise person in stats and vi...</td>\n",
              "      <td>Become a data analyst</td>\n",
              "      <td>This is the only subject I am taking this seme...</td>\n",
              "    </tr>\n",
              "    <tr>\n",
              "      <th>12</th>\n",
              "      <td>2024/08/28 4:32:17 PM AST</td>\n",
              "      <td>Social Science (History, Philosophy, Education...</td>\n",
              "      <td>Business/service-oriented</td>\n",
              "      <td>Beginner</td>\n",
              "      <td>Beginner</td>\n",
              "      <td>Beginner</td>\n",
              "      <td>I don't use GitHub</td>\n",
              "      <td>Female</td>\n",
              "      <td>1998</td>\n",
              "      <td>Crocheting</td>\n",
              "      <td>A better understanding of statistics and python.</td>\n",
              "      <td>I want to find a career that gets to work with...</td>\n",
              "      <td>NaN</td>\n",
              "    </tr>\n",
              "  </tbody>\n",
              "</table>\n",
              "</div>\n",
              "    <div class=\"colab-df-buttons\">\n",
              "\n",
              "  <div class=\"colab-df-container\">\n",
              "    <button class=\"colab-df-convert\" onclick=\"convertToInteractive('df-158d6bab-1c9e-4098-b146-4d545cf0138b')\"\n",
              "            title=\"Convert this dataframe to an interactive table.\"\n",
              "            style=\"display:none;\">\n",
              "\n",
              "  <svg xmlns=\"http://www.w3.org/2000/svg\" height=\"24px\" viewBox=\"0 -960 960 960\">\n",
              "    <path d=\"M120-120v-720h720v720H120Zm60-500h600v-160H180v160Zm220 220h160v-160H400v160Zm0 220h160v-160H400v160ZM180-400h160v-160H180v160Zm440 0h160v-160H620v160ZM180-180h160v-160H180v160Zm440 0h160v-160H620v160Z\"/>\n",
              "  </svg>\n",
              "    </button>\n",
              "\n",
              "  <style>\n",
              "    .colab-df-container {\n",
              "      display:flex;\n",
              "      gap: 12px;\n",
              "    }\n",
              "\n",
              "    .colab-df-convert {\n",
              "      background-color: #E8F0FE;\n",
              "      border: none;\n",
              "      border-radius: 50%;\n",
              "      cursor: pointer;\n",
              "      display: none;\n",
              "      fill: #1967D2;\n",
              "      height: 32px;\n",
              "      padding: 0 0 0 0;\n",
              "      width: 32px;\n",
              "    }\n",
              "\n",
              "    .colab-df-convert:hover {\n",
              "      background-color: #E2EBFA;\n",
              "      box-shadow: 0px 1px 2px rgba(60, 64, 67, 0.3), 0px 1px 3px 1px rgba(60, 64, 67, 0.15);\n",
              "      fill: #174EA6;\n",
              "    }\n",
              "\n",
              "    .colab-df-buttons div {\n",
              "      margin-bottom: 4px;\n",
              "    }\n",
              "\n",
              "    [theme=dark] .colab-df-convert {\n",
              "      background-color: #3B4455;\n",
              "      fill: #D2E3FC;\n",
              "    }\n",
              "\n",
              "    [theme=dark] .colab-df-convert:hover {\n",
              "      background-color: #434B5C;\n",
              "      box-shadow: 0px 1px 3px 1px rgba(0, 0, 0, 0.15);\n",
              "      filter: drop-shadow(0px 1px 2px rgba(0, 0, 0, 0.3));\n",
              "      fill: #FFFFFF;\n",
              "    }\n",
              "  </style>\n",
              "\n",
              "    <script>\n",
              "      const buttonEl =\n",
              "        document.querySelector('#df-158d6bab-1c9e-4098-b146-4d545cf0138b button.colab-df-convert');\n",
              "      buttonEl.style.display =\n",
              "        google.colab.kernel.accessAllowed ? 'block' : 'none';\n",
              "\n",
              "      async function convertToInteractive(key) {\n",
              "        const element = document.querySelector('#df-158d6bab-1c9e-4098-b146-4d545cf0138b');\n",
              "        const dataTable =\n",
              "          await google.colab.kernel.invokeFunction('convertToInteractive',\n",
              "                                                    [key], {});\n",
              "        if (!dataTable) return;\n",
              "\n",
              "        const docLinkHtml = 'Like what you see? Visit the ' +\n",
              "          '<a target=\"_blank\" href=https://colab.research.google.com/notebooks/data_table.ipynb>data table notebook</a>'\n",
              "          + ' to learn more about interactive tables.';\n",
              "        element.innerHTML = '';\n",
              "        dataTable['output_type'] = 'display_data';\n",
              "        await google.colab.output.renderOutput(dataTable, element);\n",
              "        const docLink = document.createElement('div');\n",
              "        docLink.innerHTML = docLinkHtml;\n",
              "        element.appendChild(docLink);\n",
              "      }\n",
              "    </script>\n",
              "  </div>\n",
              "\n",
              "\n",
              "<div id=\"df-2354f969-6540-4e0c-a0d7-bb2adcdf6c57\">\n",
              "  <button class=\"colab-df-quickchart\" onclick=\"quickchart('df-2354f969-6540-4e0c-a0d7-bb2adcdf6c57')\"\n",
              "            title=\"Suggest charts\"\n",
              "            style=\"display:none;\">\n",
              "\n",
              "<svg xmlns=\"http://www.w3.org/2000/svg\" height=\"24px\"viewBox=\"0 0 24 24\"\n",
              "     width=\"24px\">\n",
              "    <g>\n",
              "        <path d=\"M19 3H5c-1.1 0-2 .9-2 2v14c0 1.1.9 2 2 2h14c1.1 0 2-.9 2-2V5c0-1.1-.9-2-2-2zM9 17H7v-7h2v7zm4 0h-2V7h2v10zm4 0h-2v-4h2v4z\"/>\n",
              "    </g>\n",
              "</svg>\n",
              "  </button>\n",
              "\n",
              "<style>\n",
              "  .colab-df-quickchart {\n",
              "      --bg-color: #E8F0FE;\n",
              "      --fill-color: #1967D2;\n",
              "      --hover-bg-color: #E2EBFA;\n",
              "      --hover-fill-color: #174EA6;\n",
              "      --disabled-fill-color: #AAA;\n",
              "      --disabled-bg-color: #DDD;\n",
              "  }\n",
              "\n",
              "  [theme=dark] .colab-df-quickchart {\n",
              "      --bg-color: #3B4455;\n",
              "      --fill-color: #D2E3FC;\n",
              "      --hover-bg-color: #434B5C;\n",
              "      --hover-fill-color: #FFFFFF;\n",
              "      --disabled-bg-color: #3B4455;\n",
              "      --disabled-fill-color: #666;\n",
              "  }\n",
              "\n",
              "  .colab-df-quickchart {\n",
              "    background-color: var(--bg-color);\n",
              "    border: none;\n",
              "    border-radius: 50%;\n",
              "    cursor: pointer;\n",
              "    display: none;\n",
              "    fill: var(--fill-color);\n",
              "    height: 32px;\n",
              "    padding: 0;\n",
              "    width: 32px;\n",
              "  }\n",
              "\n",
              "  .colab-df-quickchart:hover {\n",
              "    background-color: var(--hover-bg-color);\n",
              "    box-shadow: 0 1px 2px rgba(60, 64, 67, 0.3), 0 1px 3px 1px rgba(60, 64, 67, 0.15);\n",
              "    fill: var(--button-hover-fill-color);\n",
              "  }\n",
              "\n",
              "  .colab-df-quickchart-complete:disabled,\n",
              "  .colab-df-quickchart-complete:disabled:hover {\n",
              "    background-color: var(--disabled-bg-color);\n",
              "    fill: var(--disabled-fill-color);\n",
              "    box-shadow: none;\n",
              "  }\n",
              "\n",
              "  .colab-df-spinner {\n",
              "    border: 2px solid var(--fill-color);\n",
              "    border-color: transparent;\n",
              "    border-bottom-color: var(--fill-color);\n",
              "    animation:\n",
              "      spin 1s steps(1) infinite;\n",
              "  }\n",
              "\n",
              "  @keyframes spin {\n",
              "    0% {\n",
              "      border-color: transparent;\n",
              "      border-bottom-color: var(--fill-color);\n",
              "      border-left-color: var(--fill-color);\n",
              "    }\n",
              "    20% {\n",
              "      border-color: transparent;\n",
              "      border-left-color: var(--fill-color);\n",
              "      border-top-color: var(--fill-color);\n",
              "    }\n",
              "    30% {\n",
              "      border-color: transparent;\n",
              "      border-left-color: var(--fill-color);\n",
              "      border-top-color: var(--fill-color);\n",
              "      border-right-color: var(--fill-color);\n",
              "    }\n",
              "    40% {\n",
              "      border-color: transparent;\n",
              "      border-right-color: var(--fill-color);\n",
              "      border-top-color: var(--fill-color);\n",
              "    }\n",
              "    60% {\n",
              "      border-color: transparent;\n",
              "      border-right-color: var(--fill-color);\n",
              "    }\n",
              "    80% {\n",
              "      border-color: transparent;\n",
              "      border-right-color: var(--fill-color);\n",
              "      border-bottom-color: var(--fill-color);\n",
              "    }\n",
              "    90% {\n",
              "      border-color: transparent;\n",
              "      border-bottom-color: var(--fill-color);\n",
              "    }\n",
              "  }\n",
              "</style>\n",
              "\n",
              "  <script>\n",
              "    async function quickchart(key) {\n",
              "      const quickchartButtonEl =\n",
              "        document.querySelector('#' + key + ' button');\n",
              "      quickchartButtonEl.disabled = true;  // To prevent multiple clicks.\n",
              "      quickchartButtonEl.classList.add('colab-df-spinner');\n",
              "      try {\n",
              "        const charts = await google.colab.kernel.invokeFunction(\n",
              "            'suggestCharts', [key], {});\n",
              "      } catch (error) {\n",
              "        console.error('Error during call to suggestCharts:', error);\n",
              "      }\n",
              "      quickchartButtonEl.classList.remove('colab-df-spinner');\n",
              "      quickchartButtonEl.classList.add('colab-df-quickchart-complete');\n",
              "    }\n",
              "    (() => {\n",
              "      let quickchartButtonEl =\n",
              "        document.querySelector('#df-2354f969-6540-4e0c-a0d7-bb2adcdf6c57 button');\n",
              "      quickchartButtonEl.style.display =\n",
              "        google.colab.kernel.accessAllowed ? 'block' : 'none';\n",
              "    })();\n",
              "  </script>\n",
              "</div>\n",
              "\n",
              "    </div>\n",
              "  </div>\n"
            ],
            "application/vnd.google.colaboratory.intrinsic+json": {
              "type": "dataframe",
              "summary": "{\n  \"name\": \"#print(pd\",\n  \"rows\": 3,\n  \"fields\": [\n    {\n      \"column\": \"Timestamp\",\n      \"properties\": {\n        \"dtype\": \"object\",\n        \"num_unique_values\": 3,\n        \"samples\": [\n          \"2024/08/18 8:33:50 PM AST\",\n          \"2024/08/28 5:20:32 PM AST\",\n          \"2024/08/28 4:32:17 PM AST\"\n        ],\n        \"semantic_type\": \"\",\n        \"description\": \"\"\n      }\n    },\n    {\n      \"column\": \"1. My primary educational background\",\n      \"properties\": {\n        \"dtype\": \"string\",\n        \"num_unique_values\": 2,\n        \"samples\": [\n          \"Social Science (History, Philosophy, Education, etc. )\",\n          \"STEM (Science, Technology, Engineering, Math)\"\n        ],\n        \"semantic_type\": \"\",\n        \"description\": \"\"\n      }\n    },\n    {\n      \"column\": \"2. My primary job function\",\n      \"properties\": {\n        \"dtype\": \"string\",\n        \"num_unique_values\": 2,\n        \"samples\": [\n          \"Business/service-oriented\",\n          \"Full-time Student\"\n        ],\n        \"semantic_type\": \"\",\n        \"description\": \"\"\n      }\n    },\n    {\n      \"column\": \"3. My level of computer programing knowledge\",\n      \"properties\": {\n        \"dtype\": \"string\",\n        \"num_unique_values\": 2,\n        \"samples\": [\n          \"Beginner\",\n          \"Intermediate\"\n        ],\n        \"semantic_type\": \"\",\n        \"description\": \"\"\n      }\n    },\n    {\n      \"column\": \"4. My level of Python progrmming knowledge\",\n      \"properties\": {\n        \"dtype\": \"string\",\n        \"num_unique_values\": 2,\n        \"samples\": [\n          \"Beginner\",\n          \"Intermediate\"\n        ],\n        \"semantic_type\": \"\",\n        \"description\": \"\"\n      }\n    },\n    {\n      \"column\": \"5. My level of Statistics knowledge\",\n      \"properties\": {\n        \"dtype\": \"string\",\n        \"num_unique_values\": 2,\n        \"samples\": [\n          \"Beginner\",\n          \"Intermediate\"\n        ],\n        \"semantic_type\": \"\",\n        \"description\": \"\"\n      }\n    },\n    {\n      \"column\": \"6. My Familarity with GitHub\",\n      \"properties\": {\n        \"dtype\": \"string\",\n        \"num_unique_values\": 2,\n        \"samples\": [\n          \"I don't use GitHub\",\n          \"I use GitHub occasionally\"\n        ],\n        \"semantic_type\": \"\",\n        \"description\": \"\"\n      }\n    },\n    {\n      \"column\": \"7. My gender\",\n      \"properties\": {\n        \"dtype\": \"string\",\n        \"num_unique_values\": 2,\n        \"samples\": [\n          \"Female\",\n          \"Male\"\n        ],\n        \"semantic_type\": \"\",\n        \"description\": \"\"\n      }\n    },\n    {\n      \"column\": \"8. My Birth Year\",\n      \"properties\": {\n        \"dtype\": \"string\",\n        \"num_unique_values\": 3,\n        \"samples\": [\n          \"2000\",\n          \"3/1/2001\"\n        ],\n        \"semantic_type\": \"\",\n        \"description\": \"\"\n      }\n    },\n    {\n      \"column\": \"9. What do you enjoy doing in your leisure time?\",\n      \"properties\": {\n        \"dtype\": \"string\",\n        \"num_unique_values\": 3,\n        \"samples\": [\n          \"Use to do some personal projects \",\n          \"I like read books \"\n        ],\n        \"semantic_type\": \"\",\n        \"description\": \"\"\n      }\n    },\n    {\n      \"column\": \"10. What do you expect to get out of this course?\",\n      \"properties\": {\n        \"dtype\": \"string\",\n        \"num_unique_values\": 3,\n        \"samples\": [\n          \"Data analysis with proper visuals \",\n          \"Become a full expertise person in stats and visualization \"\n        ],\n        \"semantic_type\": \"\",\n        \"description\": \"\"\n      }\n    },\n    {\n      \"column\": \"11. What is your long-term career goal?\",\n      \"properties\": {\n        \"dtype\": \"string\",\n        \"num_unique_values\": 3,\n        \"samples\": [\n          \"I want to become a developer \",\n          \"Become a data analyst\"\n        ],\n        \"semantic_type\": \"\",\n        \"description\": \"\"\n      }\n    },\n    {\n      \"column\": \"12. Other courses taking this semester\",\n      \"properties\": {\n        \"dtype\": \"string\",\n        \"num_unique_values\": 2,\n        \"samples\": [\n          \"This is the only subject I am taking this semester \",\n          \"HIT 664 : HEALTH IT LAW AND ETHICS , HEALTH 723 : PUBLIC HEALTH INFORMATICS \"\n        ],\n        \"semantic_type\": \"\",\n        \"description\": \"\"\n      }\n    }\n  ]\n}"
            }
          },
          "metadata": {},
          "execution_count": 25
        }
      ]
    },
    {
      "cell_type": "markdown",
      "source": [
        "## Step 2: Explore Age Distribution\n"
      ],
      "metadata": {
        "id": "lPnMeOwidJRp"
      }
    },
    {
      "cell_type": "code",
      "source": [
        "# Access a column in a panda object like its a dictionary and then convert into a list.\n",
        "yob_list = list(df['8. My Birth Year'])\n"
      ],
      "metadata": {
        "id": "rsoKWspAdP0H"
      },
      "execution_count": 26,
      "outputs": []
    },
    {
      "cell_type": "code",
      "source": [
        "cleansed_yob_list = [] # Empty list\n",
        "\n",
        "for yob in yob_list:\n",
        "  cleansed_yob = yob[-4:]\n",
        "  cleansed_yob_list.append(cleansed_yob)\n",
        "\n",
        "cleansed_yob_list\n"
      ],
      "metadata": {
        "colab": {
          "base_uri": "https://localhost:8080/"
        },
        "id": "4lpsC_bgeXGj",
        "outputId": "a57a6bc1-95ab-48ad-96bd-a41c0b2eb728"
      },
      "execution_count": 27,
      "outputs": [
        {
          "output_type": "execute_result",
          "data": {
            "text/plain": [
              "['2000',\n",
              " '2002',\n",
              " '1997',\n",
              " '1999',\n",
              " '2000',\n",
              " '2001',\n",
              " '2000',\n",
              " '1999',\n",
              " '1978',\n",
              " '2000',\n",
              " '1999',\n",
              " '2000',\n",
              " '1998',\n",
              " '2001',\n",
              " '2001',\n",
              " '2000',\n",
              " '2002',\n",
              " '1992',\n",
              " '2001',\n",
              " '1997',\n",
              " '1999']"
            ]
          },
          "metadata": {},
          "execution_count": 27
        }
      ]
    },
    {
      "cell_type": "code",
      "source": [
        "# Now let's modify the same column and convert the years of birth to ages.\n",
        "\n",
        "age_list = []\n",
        "\n",
        "# Iterates through years and converts into age (CAO 2024)\n",
        "for yob in cleansed_yob_list:\n",
        "  age = int(2024-int(yob))\n",
        "  age_list.append(age)\n",
        "\n",
        "age_list"
      ],
      "metadata": {
        "colab": {
          "base_uri": "https://localhost:8080/"
        },
        "id": "fQDtM5BngpZR",
        "outputId": "5db528eb-55ee-4042-c1a4-de377e221b22"
      },
      "execution_count": 28,
      "outputs": [
        {
          "output_type": "execute_result",
          "data": {
            "text/plain": [
              "[24,\n",
              " 22,\n",
              " 27,\n",
              " 25,\n",
              " 24,\n",
              " 23,\n",
              " 24,\n",
              " 25,\n",
              " 46,\n",
              " 24,\n",
              " 25,\n",
              " 24,\n",
              " 26,\n",
              " 23,\n",
              " 23,\n",
              " 24,\n",
              " 22,\n",
              " 32,\n",
              " 23,\n",
              " 27,\n",
              " 25]"
            ]
          },
          "metadata": {},
          "execution_count": 28
        }
      ]
    },
    {
      "cell_type": "code",
      "source": [
        "# Finds minimum age.\n",
        "min(age_list)\n",
        "\n",
        "# Finds maximum age.\n",
        "max(age_list)\n",
        "\n",
        "# Finds average\n",
        "total_age = 0\n",
        "\n",
        "for age in age_list:\n",
        "  total_age = total_age + age\n",
        "\n",
        "# Calculates and rounds average age.\n",
        "round(total_age/len(age_list))\n"
      ],
      "metadata": {
        "id": "QYUNgXIvlzTY",
        "outputId": "790ee653-dac2-4ec7-8e65-1cdf4e48bc9b",
        "colab": {
          "base_uri": "https://localhost:8080/"
        }
      },
      "execution_count": 29,
      "outputs": [
        {
          "output_type": "execute_result",
          "data": {
            "text/plain": [
              "26"
            ]
          },
          "metadata": {},
          "execution_count": 29
        }
      ]
    },
    {
      "cell_type": "code",
      "source": [
        "revised_age_total = 0\n",
        "num_skipped = 0\n",
        "\n",
        "for age in age_list:\n",
        "  if age > 35:\n",
        "    num_skipped += 1\n",
        "    continue\n",
        "  revised_age_total += age\n",
        "\n",
        "print('Revised average age, minus outliers, is: ' + str(round(revised_age_total/(len(age_list)-num_skipped))))"
      ],
      "metadata": {
        "id": "ysZhSlr1o5oL",
        "outputId": "7c4038d1-9436-4345-80b4-a77a0b0265c9",
        "colab": {
          "base_uri": "https://localhost:8080/"
        }
      },
      "execution_count": 30,
      "outputs": [
        {
          "output_type": "stream",
          "name": "stdout",
          "text": [
            "Revised average age, minus outliers, is: 25\n"
          ]
        }
      ]
    },
    {
      "cell_type": "code",
      "source": [
        "# Now, lets remove some smaller numbered outliers as well.\n",
        "\n",
        "revised_age_total_2 = 0\n",
        "num_skipped_2 = 0\n",
        "\n",
        "for age in age_list:\n",
        "  if age >= 35 or age <= 22:\n",
        "    print('Age', age, 'is skipped.')\n",
        "    num_skipped_2 += 1\n",
        "  else:\n",
        "    revised_age_total_2 += age\n",
        "\n",
        "print('Revised average age, minus small and large outliers, is:', str(round(revised_age_total_2/(len(age_list)-num_skipped_2))))"
      ],
      "metadata": {
        "id": "3LVAwpy8qEjA",
        "outputId": "cafa6f71-8edc-4394-e887-402504f8a6bd",
        "colab": {
          "base_uri": "https://localhost:8080/"
        }
      },
      "execution_count": 31,
      "outputs": [
        {
          "output_type": "stream",
          "name": "stdout",
          "text": [
            "Age 22 is skipped.\n",
            "Age 46 is skipped.\n",
            "Age 22 is skipped.\n",
            "Revised average age, minus small and large outliers, is: 25\n"
          ]
        }
      ]
    },
    {
      "cell_type": "markdown",
      "source": [
        "## Step 3: Explore Educational Background"
      ],
      "metadata": {
        "id": "HjLlKttHrj_y"
      }
    },
    {
      "cell_type": "code",
      "source": [
        "edu_list = list(df['1. My primary educational background'])\n",
        "\n",
        "# Use a list of keywords to analyze educational background.\n",
        "\n",
        "stem_kw_list = ['stem', 'mathematics', 'software engineering', 'computer science']\n",
        "social_sci_kw_list = ['history', 'political science']\n",
        "crim_just_kw_list = ['criminal justice', 'policing']\n",
        "\n",
        "# Counts number of students in multiple disciplines using keywords\n",
        "stem_stud_count = 0\n",
        "social_sci_stud_count = 0\n",
        "crim_just_stud_count = 0\n",
        "other_stud_count = 0\n",
        "\n",
        "for student_edu in edu_list:\n",
        "  kw_list = student_edu.split()\n",
        "  for kw in kw_list:\n",
        "    if kw in stem_kw_list:\n",
        "      stem_stud_count += 1\n",
        "    elif kw in social_sci_kw_list:\n",
        "      social_sci_stud_count += 1\n",
        "    elif kw in crim_just_kw_list:\n",
        "      crim_just_stud_count += 1\n",
        "    else:\n",
        "      other_stud_count += 1\n",
        "\n",
        "\n",
        "\n",
        "\n",
        "social_sci_kw_list =\n",
        "crim_just_kw_list =\n",
        "\n"
      ],
      "metadata": {
        "id": "F3t7u2_Or-9X"
      },
      "execution_count": 33,
      "outputs": []
    },
    {
      "cell_type": "markdown",
      "source": [
        "## Step 4: Explore Job Function"
      ],
      "metadata": {
        "id": "VFVBbabesPZB"
      }
    },
    {
      "cell_type": "markdown",
      "source": [
        "## Step 5: *Try something new!*"
      ],
      "metadata": {
        "id": "ioru1bDjtLMW"
      }
    }
  ]
}