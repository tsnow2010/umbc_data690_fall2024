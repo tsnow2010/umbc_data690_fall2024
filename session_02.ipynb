{
  "nbformat": 4,
  "nbformat_minor": 0,
  "metadata": {
    "colab": {
      "provenance": [],
      "include_colab_link": true
    },
    "kernelspec": {
      "name": "python3",
      "display_name": "Python 3"
    },
    "language_info": {
      "name": "python"
    }
  },
  "cells": [
    {
      "cell_type": "markdown",
      "metadata": {
        "id": "view-in-github",
        "colab_type": "text"
      },
      "source": [
        "<a href=\"https://colab.research.google.com/github/tsnow2010/umbc_data690_fall2024/blob/main/session_02.ipynb\" target=\"_parent\"><img src=\"https://colab.research.google.com/assets/colab-badge.svg\" alt=\"Open In Colab\"/></a>"
      ]
    },
    {
      "cell_type": "markdown",
      "source": [
        "# UMBC DATA690 Fall 2024\n",
        "\n",
        "## Session 02"
      ],
      "metadata": {
        "id": "Sj_ExJiJY5al"
      }
    },
    {
      "cell_type": "markdown",
      "source": [
        "## Step 1: Load the Survey Response Data"
      ],
      "metadata": {
        "id": "d4JKnNwuc4pv"
      }
    },
    {
      "cell_type": "code",
      "source": [
        "import pandas as pd\n",
        "\n",
        "DATA_URL = 'https://raw.githubusercontent.com/wcj365/python-stats-dataviz/master/data/UMBC%20DATA%20690%20FALL%202024%20DR%20WANG%20Student%20Survey.csv'\n",
        "\n",
        "df = pd.read_csv(DATA_URL)\n",
        "\n",
        "df.shape\n",
        "df.head(5)\n",
        "df.tail(2)\n",
        "df.sample(3)\n",
        "\n",
        "#print(pd.DataFrame(df['Year']))"
      ],
      "metadata": {
        "colab": {
          "base_uri": "https://localhost:8080/",
          "height": 508
        },
        "id": "TDfOMl0xZiro",
        "outputId": "d6944c82-f609-4461-f2b5-4c0aaf7504ec"
      },
      "execution_count": 5,
      "outputs": [
        {
          "output_type": "execute_result",
          "data": {
            "text/plain": [
              "                    Timestamp           1. My primary educational background  \\\n",
              "3  2024/08/19 12:38:37 PM AST  STEM (Science, Technology, Engineering, Math)   \n",
              "5  2024/08/22 10:34:10 AM AST  STEM (Science, Technology, Engineering, Math)   \n",
              "7  2024/08/22 10:55:40 PM AST  STEM (Science, Technology, Engineering, Math)   \n",
              "\n",
              "        2. My primary job function  \\\n",
              "3  Technology/engineering-oriented   \n",
              "5                Full-time Student   \n",
              "7                Full-time Student   \n",
              "\n",
              "  3. My level of computer programing knowledge  \\\n",
              "3                                 Intermediate   \n",
              "5                                 Intermediate   \n",
              "7                                 Intermediate   \n",
              "\n",
              "  4. My level of Python progrmming knowledge  \\\n",
              "3                               Intermediate   \n",
              "5                               Intermediate   \n",
              "7                               Intermediate   \n",
              "\n",
              "  5. My level of Statistics knowledge 6. My Familarity with GitHub  \\\n",
              "3                        Intermediate    I use GitHub occasionally   \n",
              "5                        Intermediate    I use GitHub occasionally   \n",
              "7                            Beginner    I use GitHub occasionally   \n",
              "\n",
              "  7. My gender 8. My Birth Year  \\\n",
              "3       Female        7/21/1999   \n",
              "5       Female             2001   \n",
              "7         Male             1999   \n",
              "\n",
              "  9. What do you enjoy doing in your leisure time?  \\\n",
              "3                                   Surfing google   \n",
              "5               Reading Books, learning new skills   \n",
              "7                 Fictional books and video games.   \n",
              "\n",
              "   10. What do you expect to get out of this course?  \\\n",
              "3  Get knowledge on statistics, perform data anal...   \n",
              "5  I expect to learn key statistical methods, per...   \n",
              "7         Exploring new methods of analysis of data.   \n",
              "\n",
              "             11. What is your long-term career goal?  \\\n",
              "3           Be well suited for Data Science position   \n",
              "5  My long-term career goal is to become an exper...   \n",
              "7                                    Data Scientist.   \n",
              "\n",
              "              12. Other courses taking this semester  \n",
              "3  This is my last semester and is the only cours...  \n",
              "5  HIT 658 Health Informatics-1, HIT 750 Data Ana...  \n",
              "7                                               ENMG  "
            ],
            "text/html": [
              "\n",
              "  <div id=\"df-cc5f80f7-5fa6-4c71-ad4b-6b5693e88520\" class=\"colab-df-container\">\n",
              "    <div>\n",
              "<style scoped>\n",
              "    .dataframe tbody tr th:only-of-type {\n",
              "        vertical-align: middle;\n",
              "    }\n",
              "\n",
              "    .dataframe tbody tr th {\n",
              "        vertical-align: top;\n",
              "    }\n",
              "\n",
              "    .dataframe thead th {\n",
              "        text-align: right;\n",
              "    }\n",
              "</style>\n",
              "<table border=\"1\" class=\"dataframe\">\n",
              "  <thead>\n",
              "    <tr style=\"text-align: right;\">\n",
              "      <th></th>\n",
              "      <th>Timestamp</th>\n",
              "      <th>1. My primary educational background</th>\n",
              "      <th>2. My primary job function</th>\n",
              "      <th>3. My level of computer programing knowledge</th>\n",
              "      <th>4. My level of Python progrmming knowledge</th>\n",
              "      <th>5. My level of Statistics knowledge</th>\n",
              "      <th>6. My Familarity with GitHub</th>\n",
              "      <th>7. My gender</th>\n",
              "      <th>8. My Birth Year</th>\n",
              "      <th>9. What do you enjoy doing in your leisure time?</th>\n",
              "      <th>10. What do you expect to get out of this course?</th>\n",
              "      <th>11. What is your long-term career goal?</th>\n",
              "      <th>12. Other courses taking this semester</th>\n",
              "    </tr>\n",
              "  </thead>\n",
              "  <tbody>\n",
              "    <tr>\n",
              "      <th>3</th>\n",
              "      <td>2024/08/19 12:38:37 PM AST</td>\n",
              "      <td>STEM (Science, Technology, Engineering, Math)</td>\n",
              "      <td>Technology/engineering-oriented</td>\n",
              "      <td>Intermediate</td>\n",
              "      <td>Intermediate</td>\n",
              "      <td>Intermediate</td>\n",
              "      <td>I use GitHub occasionally</td>\n",
              "      <td>Female</td>\n",
              "      <td>7/21/1999</td>\n",
              "      <td>Surfing google</td>\n",
              "      <td>Get knowledge on statistics, perform data anal...</td>\n",
              "      <td>Be well suited for Data Science position</td>\n",
              "      <td>This is my last semester and is the only cours...</td>\n",
              "    </tr>\n",
              "    <tr>\n",
              "      <th>5</th>\n",
              "      <td>2024/08/22 10:34:10 AM AST</td>\n",
              "      <td>STEM (Science, Technology, Engineering, Math)</td>\n",
              "      <td>Full-time Student</td>\n",
              "      <td>Intermediate</td>\n",
              "      <td>Intermediate</td>\n",
              "      <td>Intermediate</td>\n",
              "      <td>I use GitHub occasionally</td>\n",
              "      <td>Female</td>\n",
              "      <td>2001</td>\n",
              "      <td>Reading Books, learning new skills</td>\n",
              "      <td>I expect to learn key statistical methods, per...</td>\n",
              "      <td>My long-term career goal is to become an exper...</td>\n",
              "      <td>HIT 658 Health Informatics-1, HIT 750 Data Ana...</td>\n",
              "    </tr>\n",
              "    <tr>\n",
              "      <th>7</th>\n",
              "      <td>2024/08/22 10:55:40 PM AST</td>\n",
              "      <td>STEM (Science, Technology, Engineering, Math)</td>\n",
              "      <td>Full-time Student</td>\n",
              "      <td>Intermediate</td>\n",
              "      <td>Intermediate</td>\n",
              "      <td>Beginner</td>\n",
              "      <td>I use GitHub occasionally</td>\n",
              "      <td>Male</td>\n",
              "      <td>1999</td>\n",
              "      <td>Fictional books and video games.</td>\n",
              "      <td>Exploring new methods of analysis of data.</td>\n",
              "      <td>Data Scientist.</td>\n",
              "      <td>ENMG</td>\n",
              "    </tr>\n",
              "  </tbody>\n",
              "</table>\n",
              "</div>\n",
              "    <div class=\"colab-df-buttons\">\n",
              "\n",
              "  <div class=\"colab-df-container\">\n",
              "    <button class=\"colab-df-convert\" onclick=\"convertToInteractive('df-cc5f80f7-5fa6-4c71-ad4b-6b5693e88520')\"\n",
              "            title=\"Convert this dataframe to an interactive table.\"\n",
              "            style=\"display:none;\">\n",
              "\n",
              "  <svg xmlns=\"http://www.w3.org/2000/svg\" height=\"24px\" viewBox=\"0 -960 960 960\">\n",
              "    <path d=\"M120-120v-720h720v720H120Zm60-500h600v-160H180v160Zm220 220h160v-160H400v160Zm0 220h160v-160H400v160ZM180-400h160v-160H180v160Zm440 0h160v-160H620v160ZM180-180h160v-160H180v160Zm440 0h160v-160H620v160Z\"/>\n",
              "  </svg>\n",
              "    </button>\n",
              "\n",
              "  <style>\n",
              "    .colab-df-container {\n",
              "      display:flex;\n",
              "      gap: 12px;\n",
              "    }\n",
              "\n",
              "    .colab-df-convert {\n",
              "      background-color: #E8F0FE;\n",
              "      border: none;\n",
              "      border-radius: 50%;\n",
              "      cursor: pointer;\n",
              "      display: none;\n",
              "      fill: #1967D2;\n",
              "      height: 32px;\n",
              "      padding: 0 0 0 0;\n",
              "      width: 32px;\n",
              "    }\n",
              "\n",
              "    .colab-df-convert:hover {\n",
              "      background-color: #E2EBFA;\n",
              "      box-shadow: 0px 1px 2px rgba(60, 64, 67, 0.3), 0px 1px 3px 1px rgba(60, 64, 67, 0.15);\n",
              "      fill: #174EA6;\n",
              "    }\n",
              "\n",
              "    .colab-df-buttons div {\n",
              "      margin-bottom: 4px;\n",
              "    }\n",
              "\n",
              "    [theme=dark] .colab-df-convert {\n",
              "      background-color: #3B4455;\n",
              "      fill: #D2E3FC;\n",
              "    }\n",
              "\n",
              "    [theme=dark] .colab-df-convert:hover {\n",
              "      background-color: #434B5C;\n",
              "      box-shadow: 0px 1px 3px 1px rgba(0, 0, 0, 0.15);\n",
              "      filter: drop-shadow(0px 1px 2px rgba(0, 0, 0, 0.3));\n",
              "      fill: #FFFFFF;\n",
              "    }\n",
              "  </style>\n",
              "\n",
              "    <script>\n",
              "      const buttonEl =\n",
              "        document.querySelector('#df-cc5f80f7-5fa6-4c71-ad4b-6b5693e88520 button.colab-df-convert');\n",
              "      buttonEl.style.display =\n",
              "        google.colab.kernel.accessAllowed ? 'block' : 'none';\n",
              "\n",
              "      async function convertToInteractive(key) {\n",
              "        const element = document.querySelector('#df-cc5f80f7-5fa6-4c71-ad4b-6b5693e88520');\n",
              "        const dataTable =\n",
              "          await google.colab.kernel.invokeFunction('convertToInteractive',\n",
              "                                                    [key], {});\n",
              "        if (!dataTable) return;\n",
              "\n",
              "        const docLinkHtml = 'Like what you see? Visit the ' +\n",
              "          '<a target=\"_blank\" href=https://colab.research.google.com/notebooks/data_table.ipynb>data table notebook</a>'\n",
              "          + ' to learn more about interactive tables.';\n",
              "        element.innerHTML = '';\n",
              "        dataTable['output_type'] = 'display_data';\n",
              "        await google.colab.output.renderOutput(dataTable, element);\n",
              "        const docLink = document.createElement('div');\n",
              "        docLink.innerHTML = docLinkHtml;\n",
              "        element.appendChild(docLink);\n",
              "      }\n",
              "    </script>\n",
              "  </div>\n",
              "\n",
              "\n",
              "<div id=\"df-6c66b0a7-beea-4eb1-b136-5ee23069b1af\">\n",
              "  <button class=\"colab-df-quickchart\" onclick=\"quickchart('df-6c66b0a7-beea-4eb1-b136-5ee23069b1af')\"\n",
              "            title=\"Suggest charts\"\n",
              "            style=\"display:none;\">\n",
              "\n",
              "<svg xmlns=\"http://www.w3.org/2000/svg\" height=\"24px\"viewBox=\"0 0 24 24\"\n",
              "     width=\"24px\">\n",
              "    <g>\n",
              "        <path d=\"M19 3H5c-1.1 0-2 .9-2 2v14c0 1.1.9 2 2 2h14c1.1 0 2-.9 2-2V5c0-1.1-.9-2-2-2zM9 17H7v-7h2v7zm4 0h-2V7h2v10zm4 0h-2v-4h2v4z\"/>\n",
              "    </g>\n",
              "</svg>\n",
              "  </button>\n",
              "\n",
              "<style>\n",
              "  .colab-df-quickchart {\n",
              "      --bg-color: #E8F0FE;\n",
              "      --fill-color: #1967D2;\n",
              "      --hover-bg-color: #E2EBFA;\n",
              "      --hover-fill-color: #174EA6;\n",
              "      --disabled-fill-color: #AAA;\n",
              "      --disabled-bg-color: #DDD;\n",
              "  }\n",
              "\n",
              "  [theme=dark] .colab-df-quickchart {\n",
              "      --bg-color: #3B4455;\n",
              "      --fill-color: #D2E3FC;\n",
              "      --hover-bg-color: #434B5C;\n",
              "      --hover-fill-color: #FFFFFF;\n",
              "      --disabled-bg-color: #3B4455;\n",
              "      --disabled-fill-color: #666;\n",
              "  }\n",
              "\n",
              "  .colab-df-quickchart {\n",
              "    background-color: var(--bg-color);\n",
              "    border: none;\n",
              "    border-radius: 50%;\n",
              "    cursor: pointer;\n",
              "    display: none;\n",
              "    fill: var(--fill-color);\n",
              "    height: 32px;\n",
              "    padding: 0;\n",
              "    width: 32px;\n",
              "  }\n",
              "\n",
              "  .colab-df-quickchart:hover {\n",
              "    background-color: var(--hover-bg-color);\n",
              "    box-shadow: 0 1px 2px rgba(60, 64, 67, 0.3), 0 1px 3px 1px rgba(60, 64, 67, 0.15);\n",
              "    fill: var(--button-hover-fill-color);\n",
              "  }\n",
              "\n",
              "  .colab-df-quickchart-complete:disabled,\n",
              "  .colab-df-quickchart-complete:disabled:hover {\n",
              "    background-color: var(--disabled-bg-color);\n",
              "    fill: var(--disabled-fill-color);\n",
              "    box-shadow: none;\n",
              "  }\n",
              "\n",
              "  .colab-df-spinner {\n",
              "    border: 2px solid var(--fill-color);\n",
              "    border-color: transparent;\n",
              "    border-bottom-color: var(--fill-color);\n",
              "    animation:\n",
              "      spin 1s steps(1) infinite;\n",
              "  }\n",
              "\n",
              "  @keyframes spin {\n",
              "    0% {\n",
              "      border-color: transparent;\n",
              "      border-bottom-color: var(--fill-color);\n",
              "      border-left-color: var(--fill-color);\n",
              "    }\n",
              "    20% {\n",
              "      border-color: transparent;\n",
              "      border-left-color: var(--fill-color);\n",
              "      border-top-color: var(--fill-color);\n",
              "    }\n",
              "    30% {\n",
              "      border-color: transparent;\n",
              "      border-left-color: var(--fill-color);\n",
              "      border-top-color: var(--fill-color);\n",
              "      border-right-color: var(--fill-color);\n",
              "    }\n",
              "    40% {\n",
              "      border-color: transparent;\n",
              "      border-right-color: var(--fill-color);\n",
              "      border-top-color: var(--fill-color);\n",
              "    }\n",
              "    60% {\n",
              "      border-color: transparent;\n",
              "      border-right-color: var(--fill-color);\n",
              "    }\n",
              "    80% {\n",
              "      border-color: transparent;\n",
              "      border-right-color: var(--fill-color);\n",
              "      border-bottom-color: var(--fill-color);\n",
              "    }\n",
              "    90% {\n",
              "      border-color: transparent;\n",
              "      border-bottom-color: var(--fill-color);\n",
              "    }\n",
              "  }\n",
              "</style>\n",
              "\n",
              "  <script>\n",
              "    async function quickchart(key) {\n",
              "      const quickchartButtonEl =\n",
              "        document.querySelector('#' + key + ' button');\n",
              "      quickchartButtonEl.disabled = true;  // To prevent multiple clicks.\n",
              "      quickchartButtonEl.classList.add('colab-df-spinner');\n",
              "      try {\n",
              "        const charts = await google.colab.kernel.invokeFunction(\n",
              "            'suggestCharts', [key], {});\n",
              "      } catch (error) {\n",
              "        console.error('Error during call to suggestCharts:', error);\n",
              "      }\n",
              "      quickchartButtonEl.classList.remove('colab-df-spinner');\n",
              "      quickchartButtonEl.classList.add('colab-df-quickchart-complete');\n",
              "    }\n",
              "    (() => {\n",
              "      let quickchartButtonEl =\n",
              "        document.querySelector('#df-6c66b0a7-beea-4eb1-b136-5ee23069b1af button');\n",
              "      quickchartButtonEl.style.display =\n",
              "        google.colab.kernel.accessAllowed ? 'block' : 'none';\n",
              "    })();\n",
              "  </script>\n",
              "</div>\n",
              "\n",
              "    </div>\n",
              "  </div>\n"
            ],
            "application/vnd.google.colaboratory.intrinsic+json": {
              "type": "dataframe",
              "repr_error": "0"
            }
          },
          "metadata": {},
          "execution_count": 5
        }
      ]
    },
    {
      "cell_type": "markdown",
      "source": [
        "## Step 2: Explore Age Distribution\n"
      ],
      "metadata": {
        "id": "lPnMeOwidJRp"
      }
    },
    {
      "cell_type": "code",
      "source": [
        "# Access a column in a panda object like its a dictionary and then convert into a list.\n",
        "yob_list = list(df['8. My Birth Year'])\n"
      ],
      "metadata": {
        "id": "rsoKWspAdP0H"
      },
      "execution_count": 6,
      "outputs": []
    },
    {
      "cell_type": "code",
      "source": [
        "cleansed_yob_list = [] # Empty list\n",
        "\n",
        "for yob in yob_list:\n",
        "  cleansed_yob = yob[-4:]\n",
        "  cleansed_yob_list.append(cleansed_yob)\n",
        "\n",
        "cleansed_yob_list\n"
      ],
      "metadata": {
        "colab": {
          "base_uri": "https://localhost:8080/"
        },
        "id": "4lpsC_bgeXGj",
        "outputId": "c1280a92-5b00-4baa-c252-9e613eb5807d"
      },
      "execution_count": 7,
      "outputs": [
        {
          "output_type": "execute_result",
          "data": {
            "text/plain": [
              "['2000',\n",
              " '2002',\n",
              " '1997',\n",
              " '1999',\n",
              " '2000',\n",
              " '2001',\n",
              " '2000',\n",
              " '1999',\n",
              " '1978',\n",
              " '2000',\n",
              " '1999',\n",
              " '2000',\n",
              " '1998',\n",
              " '2001',\n",
              " '2001',\n",
              " '2000',\n",
              " '2002',\n",
              " '1992',\n",
              " '2001',\n",
              " '1997',\n",
              " '1999']"
            ]
          },
          "metadata": {},
          "execution_count": 7
        }
      ]
    },
    {
      "cell_type": "code",
      "source": [
        "# Now let's modify the same column and convert the years of birth to ages.\n",
        "\n",
        "age_list = []\n",
        "\n",
        "# Iterates through years and converts into age (CAO 2024)\n",
        "for yob in cleansed_yob_list:\n",
        "  age = int(2024-int(yob))\n",
        "  age_list.append(age)\n",
        "\n",
        "age_list"
      ],
      "metadata": {
        "colab": {
          "base_uri": "https://localhost:8080/"
        },
        "id": "fQDtM5BngpZR",
        "outputId": "c576e8a5-f6bb-499e-ebf5-ff00b4564dd3"
      },
      "execution_count": 8,
      "outputs": [
        {
          "output_type": "execute_result",
          "data": {
            "text/plain": [
              "[24,\n",
              " 22,\n",
              " 27,\n",
              " 25,\n",
              " 24,\n",
              " 23,\n",
              " 24,\n",
              " 25,\n",
              " 46,\n",
              " 24,\n",
              " 25,\n",
              " 24,\n",
              " 26,\n",
              " 23,\n",
              " 23,\n",
              " 24,\n",
              " 22,\n",
              " 32,\n",
              " 23,\n",
              " 27,\n",
              " 25]"
            ]
          },
          "metadata": {},
          "execution_count": 8
        }
      ]
    },
    {
      "cell_type": "code",
      "source": [
        "# Finds minimum age.\n",
        "min(age_list)\n",
        "\n",
        "# Finds maximum age.\n",
        "max(age_list)\n",
        "\n",
        "# Finds average\n",
        "total_age = 0\n",
        "\n",
        "for age in age_list:\n",
        "  total_age = total_age + age\n",
        "\n",
        "# Calculates and rounds average age.\n",
        "round(total_age/len(age_list))\n"
      ],
      "metadata": {
        "id": "QYUNgXIvlzTY",
        "outputId": "95726323-3197-42f7-a7ae-aa28e175988c",
        "colab": {
          "base_uri": "https://localhost:8080/"
        }
      },
      "execution_count": 9,
      "outputs": [
        {
          "output_type": "execute_result",
          "data": {
            "text/plain": [
              "26"
            ]
          },
          "metadata": {},
          "execution_count": 9
        }
      ]
    },
    {
      "cell_type": "code",
      "source": [
        "revised_age_total = 0\n",
        "num_skipped = 0\n",
        "\n",
        "for age in age_list:\n",
        "  if age > 35:\n",
        "    num_skipped += 1\n",
        "    continue\n",
        "  revised_age_total += age\n",
        "\n",
        "print('Revised average age, minus outliers, is: ' + str(round(revised_age_total/(len(age_list)-num_skipped))))"
      ],
      "metadata": {
        "id": "ysZhSlr1o5oL",
        "outputId": "c2c13bee-196f-4cce-bfe7-81dfadc211ca",
        "colab": {
          "base_uri": "https://localhost:8080/"
        }
      },
      "execution_count": 10,
      "outputs": [
        {
          "output_type": "stream",
          "name": "stdout",
          "text": [
            "Revised average age, minus outliers, is: 25\n"
          ]
        }
      ]
    },
    {
      "cell_type": "code",
      "source": [
        "# Now, lets remove some smaller numbered outliers as well.\n",
        "\n",
        "revised_age_total_2 = 0\n",
        "num_skipped_2 = 0\n",
        "\n",
        "for age in age_list:\n",
        "  if age >= 35 or age <= 22:\n",
        "    print('Age', age, 'is skipped.')\n",
        "    num_skipped_2 += 1\n",
        "  else:\n",
        "    revised_age_total_2 += age\n",
        "\n",
        "print('Revised average age, minus small and large outliers, is:', str(round(revised_age_total_2/(len(age_list)-num_skipped_2))))"
      ],
      "metadata": {
        "id": "3LVAwpy8qEjA",
        "outputId": "a77f36a7-a92c-441d-c7d9-a08a8b90ddc2",
        "colab": {
          "base_uri": "https://localhost:8080/"
        }
      },
      "execution_count": 11,
      "outputs": [
        {
          "output_type": "stream",
          "name": "stdout",
          "text": [
            "Age 22 is skipped.\n",
            "Age 46 is skipped.\n",
            "Age 22 is skipped.\n",
            "Revised average age, minus small and large outliers, is: 25\n"
          ]
        }
      ]
    },
    {
      "cell_type": "markdown",
      "source": [
        "## Step 3: Explore Educational Background"
      ],
      "metadata": {
        "id": "HjLlKttHrj_y"
      }
    },
    {
      "cell_type": "code",
      "source": [
        "def strip_all(word):\n",
        "  strip1 = word.strip(')')\n",
        "  strip2 = strip1.strip('(')\n",
        "  strip3 = strip2.strip(',')\n",
        "  return strip3\n",
        "\n",
        "edu_list = list(df['1. My primary educational background'])\n",
        "\n",
        "# Use a list of keywords to analyze educational background.\n",
        "\n",
        "stem_kw_list = ['stem', 'mathematics', 'software', 'engineering', 'science', 'psychology']\n",
        "social_sci_kw_list = ['history', 'political' 'science', 'social']\n",
        "crim_just_kw_list = ['criminal', 'justice', 'policing', 'law']\n",
        "\n",
        "# Counts number of students in multiple disciplines using keywords\n",
        "stem_stud_count = 0\n",
        "social_sci_stud_count = 0\n",
        "crim_just_stud_count = 0\n",
        "other_stud_count = 0\n",
        "\n",
        "for student_edu in edu_list:\n",
        "  # Creates a list from the response with each element being (1) word with punctuation\n",
        "  kw_list = student_edu.split()\n",
        "\n",
        "  # Removes any commas or periods or other punctuation around keywords.\n",
        "  all_undercase_kw_list = [word.lower() for word in kw_list]\n",
        "  np_kw_list = [strip_all(word) for word in all_undercase_kw_list]\n",
        "\n",
        "  # For loop checks to see if student gave keyword responses to (3) different educational backgrounds.\n",
        "  for kw in np_kw_list:\n",
        "\n",
        "    # Checks for STEM words WITHOUT social science terms.\n",
        "    if kw in stem_kw_list and kw != 'political' and kw != 'social':\n",
        "      stem_stud_count += 1\n",
        "      break\n",
        "\n",
        "    # Checks for social science terms\n",
        "    elif kw in social_sci_kw_list:\n",
        "      social_sci_stud_count += 1\n",
        "      break\n",
        "\n",
        "    # Checks for criminal justice terms\n",
        "    elif kw in crim_just_kw_list:\n",
        "      crim_just_stud_count += 1\n",
        "      break\n",
        "    # Continues with next word if word is not a \"keyword\"\n",
        "    elif kw is np_kw_list[len(np_kw_list)-1]:\n",
        "        other_stud_count += 1\n",
        "        break\n",
        "    continue\n",
        "\n",
        "\n",
        "print(\"STEM Students: \", stem_stud_count)\n",
        "print(\"Social Science Students: \", social_sci_stud_count)\n",
        "print(\"Criminal Justice Students: \", crim_just_stud_count)\n",
        "print(\"Other Students: \", other_stud_count)\n",
        "print(\"Total Students: \", len(edu_list))\n"
      ],
      "metadata": {
        "id": "F3t7u2_Or-9X",
        "outputId": "a73c2781-c6b6-4aff-b4e9-a04f47d71360",
        "colab": {
          "base_uri": "https://localhost:8080/"
        }
      },
      "execution_count": 37,
      "outputs": [
        {
          "output_type": "stream",
          "name": "stdout",
          "text": [
            "['stem', 'science', 'technology', 'engineering', 'math']\n",
            "['stem', 'science', 'technology', 'engineering', 'math']\n",
            "['stem', 'science', 'technology', 'engineering', 'math']\n",
            "['stem', 'science', 'technology', 'engineering', 'math']\n",
            "['stem', 'science', 'technology', 'engineering', 'math']\n",
            "['stem', 'science', 'technology', 'engineering', 'math']\n",
            "['stem', 'science', 'technology', 'engineering', 'math']\n",
            "['stem', 'science', 'technology', 'engineering', 'math']\n",
            "['stem', 'science', 'technology', 'engineering', 'math']\n",
            "['stem', 'science', 'technology', 'engineering', 'math']\n",
            "['stem', 'science', 'technology', 'engineering', 'math']\n",
            "['stem', 'science', 'technology', 'engineering', 'math']\n",
            "['social', 'science', 'history', 'philosophy', 'education', 'etc.', '']\n",
            "['stem', 'science', 'technology', 'engineering', 'math']\n",
            "['stem', 'science', 'technology', 'engineering', 'math']\n",
            "['stem', 'science', 'technology', 'engineering', 'math']\n",
            "['stem', 'science', 'technology', 'engineering', 'math']\n",
            "['criminal', 'justice', 'with', 'some', 'software', 'engineering', 'courses']\n",
            "['stem', 'science', 'technology', 'engineering', 'math']\n",
            "['stem', 'science', 'technology', 'engineering', 'math']\n",
            "['stem', 'science', 'technology', 'engineering', 'math']\n",
            "STEM Students:  19\n",
            "Social Science Students:  1\n",
            "Criminal Justice Students:  1\n",
            "Other Students:  0\n",
            "Total Students:  21\n"
          ]
        }
      ]
    },
    {
      "cell_type": "code",
      "source": [
        "line = \"hello this is a test\"\n",
        "print(line.split())\n",
        "\n",
        "x = 1\n",
        "x += 1\n",
        "print(x)"
      ],
      "metadata": {
        "id": "2x-qViPodGy7",
        "outputId": "3255c52a-e501-4c73-d00d-dd63221d9720",
        "colab": {
          "base_uri": "https://localhost:8080/"
        }
      },
      "execution_count": 15,
      "outputs": [
        {
          "output_type": "stream",
          "name": "stdout",
          "text": [
            "['hello', 'this', 'is', 'a', 'test']\n",
            "2\n"
          ]
        }
      ]
    },
    {
      "cell_type": "markdown",
      "source": [
        "## Step 4: Explore Job Function"
      ],
      "metadata": {
        "id": "VFVBbabesPZB"
      }
    },
    {
      "cell_type": "markdown",
      "source": [
        "## Step 5: *Try something new!*"
      ],
      "metadata": {
        "id": "ioru1bDjtLMW"
      }
    }
  ]
}