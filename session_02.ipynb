{
  "nbformat": 4,
  "nbformat_minor": 0,
  "metadata": {
    "colab": {
      "provenance": [],
      "include_colab_link": true
    },
    "kernelspec": {
      "name": "python3",
      "display_name": "Python 3"
    },
    "language_info": {
      "name": "python"
    }
  },
  "cells": [
    {
      "cell_type": "markdown",
      "metadata": {
        "id": "view-in-github",
        "colab_type": "text"
      },
      "source": [
        "<a href=\"https://colab.research.google.com/github/tsnow2010/umbc_data690_fall2024/blob/main/session_02.ipynb\" target=\"_parent\"><img src=\"https://colab.research.google.com/assets/colab-badge.svg\" alt=\"Open In Colab\"/></a>"
      ]
    },
    {
      "cell_type": "markdown",
      "source": [
        "# UMBC DATA690 Fall 2024\n",
        "\n",
        "## Session 02"
      ],
      "metadata": {
        "id": "Sj_ExJiJY5al"
      }
    },
    {
      "cell_type": "markdown",
      "source": [
        "## Step 1: Load the Survey Response Data"
      ],
      "metadata": {
        "id": "d4JKnNwuc4pv"
      }
    },
    {
      "cell_type": "code",
      "source": [
        "import pandas as pd\n",
        "\n",
        "DATA_URL = 'https://raw.githubusercontent.com/wcj365/python-stats-dataviz/master/data/UMBC%20DATA%20690%20FALL%202024%20DR%20WANG%20Student%20Survey.csv'\n",
        "\n",
        "df = pd.read_csv(DATA_URL)\n",
        "\n",
        "df.shape\n",
        "df.head(5)\n",
        "df.tail(2)\n",
        "df.sample(5)\n",
        "\n",
        "#print(pd.DataFrame(df['Year']))"
      ],
      "metadata": {
        "colab": {
          "base_uri": "https://localhost:8080/",
          "height": 692
        },
        "id": "TDfOMl0xZiro",
        "outputId": "76da3357-3abf-4888-8778-00a2061dbc8a"
      },
      "execution_count": 45,
      "outputs": [
        {
          "output_type": "execute_result",
          "data": {
            "text/plain": [
              "                     Timestamp           1. My primary educational background  \\\n",
              "0    2024/08/18 8:33:50 PM AST  STEM (Science, Technology, Engineering, Math)   \n",
              "20   2024/08/28 7:07:08 PM AST  STEM (Science, Technology, Engineering, Math)   \n",
              "18   2024/08/28 6:59:16 PM AST  STEM (Science, Technology, Engineering, Math)   \n",
              "6   2024/08/22 10:34:30 AM AST  STEM (Science, Technology, Engineering, Math)   \n",
              "16   2024/08/28 6:50:12 PM AST  STEM (Science, Technology, Engineering, Math)   \n",
              "\n",
              "         2. My primary job function  \\\n",
              "0                 Full-time Student   \n",
              "20  Technology/engineering-oriented   \n",
              "18                Full-time Student   \n",
              "6                 Full-time Student   \n",
              "16                Full-time Student   \n",
              "\n",
              "   3. My level of computer programing knowledge  \\\n",
              "0                                  Intermediate   \n",
              "20                                 Intermediate   \n",
              "18                                 Intermediate   \n",
              "6                                  Intermediate   \n",
              "16                                     Beginner   \n",
              "\n",
              "   4. My level of Python progrmming knowledge  \\\n",
              "0                                Intermediate   \n",
              "20                               Intermediate   \n",
              "18                               Intermediate   \n",
              "6                                Intermediate   \n",
              "16                                   Beginner   \n",
              "\n",
              "   5. My level of Statistics knowledge 6. My Familarity with GitHub  \\\n",
              "0                         Intermediate    I use GitHub occasionally   \n",
              "20                        Intermediate    I use GitHub occasionally   \n",
              "18                        Intermediate    I use GitHub occasionally   \n",
              "6                         Intermediate    I use GitHub occasionally   \n",
              "16                            Beginner    I use GitHub occasionally   \n",
              "\n",
              "   7. My gender 8. My Birth Year  \\\n",
              "0          Male             2000   \n",
              "20         Male             1999   \n",
              "18         Male        12/6/2001   \n",
              "6          Male             2000   \n",
              "16         Male             2002   \n",
              "\n",
              "     9. What do you enjoy doing in your leisure time?  \\\n",
              "0                   Use to do some personal projects    \n",
              "20                                             Sports   \n",
              "18                                        Gym, movies   \n",
              "6   Reading Books, Watching movies and staying act...   \n",
              "16                                         Traveling    \n",
              "\n",
              "    10. What do you expect to get out of this course?  \\\n",
              "0                  Data analysis with proper visuals    \n",
              "20  A good handson experience on statistics and py...   \n",
              "18  Better understanding and knowledge on. Stats a...   \n",
              "6   I expect to learn the basics of statistics, ho...   \n",
              "16                  Some knowledge towards the course   \n",
              "\n",
              "              11. What is your long-term career goal?  \\\n",
              "0                       I want to become a developer    \n",
              "20                                       Data analyst   \n",
              "18                                     Data scientist   \n",
              "6   My long-term career goal is to become a skille...   \n",
              "16                 To be placed in recognized IT firm   \n",
              "\n",
              "               12. Other courses taking this semester  \n",
              "0   HIT 664 : HEALTH IT LAW AND ETHICS , HEALTH 72...  \n",
              "20  Capstone in Data Science | DATA 606;Special To...  \n",
              "18                                             HIT 1   \n",
              "6   HIT 658 Health Informatics-1, HIT 750 Data Ana...  \n",
              "16                                     Deep learning   "
            ],
            "text/html": [
              "\n",
              "  <div id=\"df-cbb62f34-5682-4ade-b5a8-dc161e6b0a1a\" class=\"colab-df-container\">\n",
              "    <div>\n",
              "<style scoped>\n",
              "    .dataframe tbody tr th:only-of-type {\n",
              "        vertical-align: middle;\n",
              "    }\n",
              "\n",
              "    .dataframe tbody tr th {\n",
              "        vertical-align: top;\n",
              "    }\n",
              "\n",
              "    .dataframe thead th {\n",
              "        text-align: right;\n",
              "    }\n",
              "</style>\n",
              "<table border=\"1\" class=\"dataframe\">\n",
              "  <thead>\n",
              "    <tr style=\"text-align: right;\">\n",
              "      <th></th>\n",
              "      <th>Timestamp</th>\n",
              "      <th>1. My primary educational background</th>\n",
              "      <th>2. My primary job function</th>\n",
              "      <th>3. My level of computer programing knowledge</th>\n",
              "      <th>4. My level of Python progrmming knowledge</th>\n",
              "      <th>5. My level of Statistics knowledge</th>\n",
              "      <th>6. My Familarity with GitHub</th>\n",
              "      <th>7. My gender</th>\n",
              "      <th>8. My Birth Year</th>\n",
              "      <th>9. What do you enjoy doing in your leisure time?</th>\n",
              "      <th>10. What do you expect to get out of this course?</th>\n",
              "      <th>11. What is your long-term career goal?</th>\n",
              "      <th>12. Other courses taking this semester</th>\n",
              "    </tr>\n",
              "  </thead>\n",
              "  <tbody>\n",
              "    <tr>\n",
              "      <th>0</th>\n",
              "      <td>2024/08/18 8:33:50 PM AST</td>\n",
              "      <td>STEM (Science, Technology, Engineering, Math)</td>\n",
              "      <td>Full-time Student</td>\n",
              "      <td>Intermediate</td>\n",
              "      <td>Intermediate</td>\n",
              "      <td>Intermediate</td>\n",
              "      <td>I use GitHub occasionally</td>\n",
              "      <td>Male</td>\n",
              "      <td>2000</td>\n",
              "      <td>Use to do some personal projects</td>\n",
              "      <td>Data analysis with proper visuals</td>\n",
              "      <td>I want to become a developer</td>\n",
              "      <td>HIT 664 : HEALTH IT LAW AND ETHICS , HEALTH 72...</td>\n",
              "    </tr>\n",
              "    <tr>\n",
              "      <th>20</th>\n",
              "      <td>2024/08/28 7:07:08 PM AST</td>\n",
              "      <td>STEM (Science, Technology, Engineering, Math)</td>\n",
              "      <td>Technology/engineering-oriented</td>\n",
              "      <td>Intermediate</td>\n",
              "      <td>Intermediate</td>\n",
              "      <td>Intermediate</td>\n",
              "      <td>I use GitHub occasionally</td>\n",
              "      <td>Male</td>\n",
              "      <td>1999</td>\n",
              "      <td>Sports</td>\n",
              "      <td>A good handson experience on statistics and py...</td>\n",
              "      <td>Data analyst</td>\n",
              "      <td>Capstone in Data Science | DATA 606;Special To...</td>\n",
              "    </tr>\n",
              "    <tr>\n",
              "      <th>18</th>\n",
              "      <td>2024/08/28 6:59:16 PM AST</td>\n",
              "      <td>STEM (Science, Technology, Engineering, Math)</td>\n",
              "      <td>Full-time Student</td>\n",
              "      <td>Intermediate</td>\n",
              "      <td>Intermediate</td>\n",
              "      <td>Intermediate</td>\n",
              "      <td>I use GitHub occasionally</td>\n",
              "      <td>Male</td>\n",
              "      <td>12/6/2001</td>\n",
              "      <td>Gym, movies</td>\n",
              "      <td>Better understanding and knowledge on. Stats a...</td>\n",
              "      <td>Data scientist</td>\n",
              "      <td>HIT 1</td>\n",
              "    </tr>\n",
              "    <tr>\n",
              "      <th>6</th>\n",
              "      <td>2024/08/22 10:34:30 AM AST</td>\n",
              "      <td>STEM (Science, Technology, Engineering, Math)</td>\n",
              "      <td>Full-time Student</td>\n",
              "      <td>Intermediate</td>\n",
              "      <td>Intermediate</td>\n",
              "      <td>Intermediate</td>\n",
              "      <td>I use GitHub occasionally</td>\n",
              "      <td>Male</td>\n",
              "      <td>2000</td>\n",
              "      <td>Reading Books, Watching movies and staying act...</td>\n",
              "      <td>I expect to learn the basics of statistics, ho...</td>\n",
              "      <td>My long-term career goal is to become a skille...</td>\n",
              "      <td>HIT 658 Health Informatics-1, HIT 750 Data Ana...</td>\n",
              "    </tr>\n",
              "    <tr>\n",
              "      <th>16</th>\n",
              "      <td>2024/08/28 6:50:12 PM AST</td>\n",
              "      <td>STEM (Science, Technology, Engineering, Math)</td>\n",
              "      <td>Full-time Student</td>\n",
              "      <td>Beginner</td>\n",
              "      <td>Beginner</td>\n",
              "      <td>Beginner</td>\n",
              "      <td>I use GitHub occasionally</td>\n",
              "      <td>Male</td>\n",
              "      <td>2002</td>\n",
              "      <td>Traveling</td>\n",
              "      <td>Some knowledge towards the course</td>\n",
              "      <td>To be placed in recognized IT firm</td>\n",
              "      <td>Deep learning</td>\n",
              "    </tr>\n",
              "  </tbody>\n",
              "</table>\n",
              "</div>\n",
              "    <div class=\"colab-df-buttons\">\n",
              "\n",
              "  <div class=\"colab-df-container\">\n",
              "    <button class=\"colab-df-convert\" onclick=\"convertToInteractive('df-cbb62f34-5682-4ade-b5a8-dc161e6b0a1a')\"\n",
              "            title=\"Convert this dataframe to an interactive table.\"\n",
              "            style=\"display:none;\">\n",
              "\n",
              "  <svg xmlns=\"http://www.w3.org/2000/svg\" height=\"24px\" viewBox=\"0 -960 960 960\">\n",
              "    <path d=\"M120-120v-720h720v720H120Zm60-500h600v-160H180v160Zm220 220h160v-160H400v160Zm0 220h160v-160H400v160ZM180-400h160v-160H180v160Zm440 0h160v-160H620v160ZM180-180h160v-160H180v160Zm440 0h160v-160H620v160Z\"/>\n",
              "  </svg>\n",
              "    </button>\n",
              "\n",
              "  <style>\n",
              "    .colab-df-container {\n",
              "      display:flex;\n",
              "      gap: 12px;\n",
              "    }\n",
              "\n",
              "    .colab-df-convert {\n",
              "      background-color: #E8F0FE;\n",
              "      border: none;\n",
              "      border-radius: 50%;\n",
              "      cursor: pointer;\n",
              "      display: none;\n",
              "      fill: #1967D2;\n",
              "      height: 32px;\n",
              "      padding: 0 0 0 0;\n",
              "      width: 32px;\n",
              "    }\n",
              "\n",
              "    .colab-df-convert:hover {\n",
              "      background-color: #E2EBFA;\n",
              "      box-shadow: 0px 1px 2px rgba(60, 64, 67, 0.3), 0px 1px 3px 1px rgba(60, 64, 67, 0.15);\n",
              "      fill: #174EA6;\n",
              "    }\n",
              "\n",
              "    .colab-df-buttons div {\n",
              "      margin-bottom: 4px;\n",
              "    }\n",
              "\n",
              "    [theme=dark] .colab-df-convert {\n",
              "      background-color: #3B4455;\n",
              "      fill: #D2E3FC;\n",
              "    }\n",
              "\n",
              "    [theme=dark] .colab-df-convert:hover {\n",
              "      background-color: #434B5C;\n",
              "      box-shadow: 0px 1px 3px 1px rgba(0, 0, 0, 0.15);\n",
              "      filter: drop-shadow(0px 1px 2px rgba(0, 0, 0, 0.3));\n",
              "      fill: #FFFFFF;\n",
              "    }\n",
              "  </style>\n",
              "\n",
              "    <script>\n",
              "      const buttonEl =\n",
              "        document.querySelector('#df-cbb62f34-5682-4ade-b5a8-dc161e6b0a1a button.colab-df-convert');\n",
              "      buttonEl.style.display =\n",
              "        google.colab.kernel.accessAllowed ? 'block' : 'none';\n",
              "\n",
              "      async function convertToInteractive(key) {\n",
              "        const element = document.querySelector('#df-cbb62f34-5682-4ade-b5a8-dc161e6b0a1a');\n",
              "        const dataTable =\n",
              "          await google.colab.kernel.invokeFunction('convertToInteractive',\n",
              "                                                    [key], {});\n",
              "        if (!dataTable) return;\n",
              "\n",
              "        const docLinkHtml = 'Like what you see? Visit the ' +\n",
              "          '<a target=\"_blank\" href=https://colab.research.google.com/notebooks/data_table.ipynb>data table notebook</a>'\n",
              "          + ' to learn more about interactive tables.';\n",
              "        element.innerHTML = '';\n",
              "        dataTable['output_type'] = 'display_data';\n",
              "        await google.colab.output.renderOutput(dataTable, element);\n",
              "        const docLink = document.createElement('div');\n",
              "        docLink.innerHTML = docLinkHtml;\n",
              "        element.appendChild(docLink);\n",
              "      }\n",
              "    </script>\n",
              "  </div>\n",
              "\n",
              "\n",
              "<div id=\"df-a24fbfdc-b8b3-44aa-a16f-7989e86a21c9\">\n",
              "  <button class=\"colab-df-quickchart\" onclick=\"quickchart('df-a24fbfdc-b8b3-44aa-a16f-7989e86a21c9')\"\n",
              "            title=\"Suggest charts\"\n",
              "            style=\"display:none;\">\n",
              "\n",
              "<svg xmlns=\"http://www.w3.org/2000/svg\" height=\"24px\"viewBox=\"0 0 24 24\"\n",
              "     width=\"24px\">\n",
              "    <g>\n",
              "        <path d=\"M19 3H5c-1.1 0-2 .9-2 2v14c0 1.1.9 2 2 2h14c1.1 0 2-.9 2-2V5c0-1.1-.9-2-2-2zM9 17H7v-7h2v7zm4 0h-2V7h2v10zm4 0h-2v-4h2v4z\"/>\n",
              "    </g>\n",
              "</svg>\n",
              "  </button>\n",
              "\n",
              "<style>\n",
              "  .colab-df-quickchart {\n",
              "      --bg-color: #E8F0FE;\n",
              "      --fill-color: #1967D2;\n",
              "      --hover-bg-color: #E2EBFA;\n",
              "      --hover-fill-color: #174EA6;\n",
              "      --disabled-fill-color: #AAA;\n",
              "      --disabled-bg-color: #DDD;\n",
              "  }\n",
              "\n",
              "  [theme=dark] .colab-df-quickchart {\n",
              "      --bg-color: #3B4455;\n",
              "      --fill-color: #D2E3FC;\n",
              "      --hover-bg-color: #434B5C;\n",
              "      --hover-fill-color: #FFFFFF;\n",
              "      --disabled-bg-color: #3B4455;\n",
              "      --disabled-fill-color: #666;\n",
              "  }\n",
              "\n",
              "  .colab-df-quickchart {\n",
              "    background-color: var(--bg-color);\n",
              "    border: none;\n",
              "    border-radius: 50%;\n",
              "    cursor: pointer;\n",
              "    display: none;\n",
              "    fill: var(--fill-color);\n",
              "    height: 32px;\n",
              "    padding: 0;\n",
              "    width: 32px;\n",
              "  }\n",
              "\n",
              "  .colab-df-quickchart:hover {\n",
              "    background-color: var(--hover-bg-color);\n",
              "    box-shadow: 0 1px 2px rgba(60, 64, 67, 0.3), 0 1px 3px 1px rgba(60, 64, 67, 0.15);\n",
              "    fill: var(--button-hover-fill-color);\n",
              "  }\n",
              "\n",
              "  .colab-df-quickchart-complete:disabled,\n",
              "  .colab-df-quickchart-complete:disabled:hover {\n",
              "    background-color: var(--disabled-bg-color);\n",
              "    fill: var(--disabled-fill-color);\n",
              "    box-shadow: none;\n",
              "  }\n",
              "\n",
              "  .colab-df-spinner {\n",
              "    border: 2px solid var(--fill-color);\n",
              "    border-color: transparent;\n",
              "    border-bottom-color: var(--fill-color);\n",
              "    animation:\n",
              "      spin 1s steps(1) infinite;\n",
              "  }\n",
              "\n",
              "  @keyframes spin {\n",
              "    0% {\n",
              "      border-color: transparent;\n",
              "      border-bottom-color: var(--fill-color);\n",
              "      border-left-color: var(--fill-color);\n",
              "    }\n",
              "    20% {\n",
              "      border-color: transparent;\n",
              "      border-left-color: var(--fill-color);\n",
              "      border-top-color: var(--fill-color);\n",
              "    }\n",
              "    30% {\n",
              "      border-color: transparent;\n",
              "      border-left-color: var(--fill-color);\n",
              "      border-top-color: var(--fill-color);\n",
              "      border-right-color: var(--fill-color);\n",
              "    }\n",
              "    40% {\n",
              "      border-color: transparent;\n",
              "      border-right-color: var(--fill-color);\n",
              "      border-top-color: var(--fill-color);\n",
              "    }\n",
              "    60% {\n",
              "      border-color: transparent;\n",
              "      border-right-color: var(--fill-color);\n",
              "    }\n",
              "    80% {\n",
              "      border-color: transparent;\n",
              "      border-right-color: var(--fill-color);\n",
              "      border-bottom-color: var(--fill-color);\n",
              "    }\n",
              "    90% {\n",
              "      border-color: transparent;\n",
              "      border-bottom-color: var(--fill-color);\n",
              "    }\n",
              "  }\n",
              "</style>\n",
              "\n",
              "  <script>\n",
              "    async function quickchart(key) {\n",
              "      const quickchartButtonEl =\n",
              "        document.querySelector('#' + key + ' button');\n",
              "      quickchartButtonEl.disabled = true;  // To prevent multiple clicks.\n",
              "      quickchartButtonEl.classList.add('colab-df-spinner');\n",
              "      try {\n",
              "        const charts = await google.colab.kernel.invokeFunction(\n",
              "            'suggestCharts', [key], {});\n",
              "      } catch (error) {\n",
              "        console.error('Error during call to suggestCharts:', error);\n",
              "      }\n",
              "      quickchartButtonEl.classList.remove('colab-df-spinner');\n",
              "      quickchartButtonEl.classList.add('colab-df-quickchart-complete');\n",
              "    }\n",
              "    (() => {\n",
              "      let quickchartButtonEl =\n",
              "        document.querySelector('#df-a24fbfdc-b8b3-44aa-a16f-7989e86a21c9 button');\n",
              "      quickchartButtonEl.style.display =\n",
              "        google.colab.kernel.accessAllowed ? 'block' : 'none';\n",
              "    })();\n",
              "  </script>\n",
              "</div>\n",
              "\n",
              "    </div>\n",
              "  </div>\n"
            ],
            "application/vnd.google.colaboratory.intrinsic+json": {
              "type": "dataframe",
              "summary": "{\n  \"name\": \"#print(pd\",\n  \"rows\": 5,\n  \"fields\": [\n    {\n      \"column\": \"Timestamp\",\n      \"properties\": {\n        \"dtype\": \"object\",\n        \"num_unique_values\": 5,\n        \"samples\": [\n          \"2024/08/28 7:07:08 PM AST\",\n          \"2024/08/28 6:50:12 PM AST\",\n          \"2024/08/28 6:59:16 PM AST\"\n        ],\n        \"semantic_type\": \"\",\n        \"description\": \"\"\n      }\n    },\n    {\n      \"column\": \"1. My primary educational background\",\n      \"properties\": {\n        \"dtype\": \"category\",\n        \"num_unique_values\": 1,\n        \"samples\": [\n          \"STEM (Science, Technology, Engineering, Math)\"\n        ],\n        \"semantic_type\": \"\",\n        \"description\": \"\"\n      }\n    },\n    {\n      \"column\": \"2. My primary job function\",\n      \"properties\": {\n        \"dtype\": \"category\",\n        \"num_unique_values\": 2,\n        \"samples\": [\n          \"Technology/engineering-oriented\"\n        ],\n        \"semantic_type\": \"\",\n        \"description\": \"\"\n      }\n    },\n    {\n      \"column\": \"3. My level of computer programing knowledge\",\n      \"properties\": {\n        \"dtype\": \"category\",\n        \"num_unique_values\": 2,\n        \"samples\": [\n          \"Beginner\"\n        ],\n        \"semantic_type\": \"\",\n        \"description\": \"\"\n      }\n    },\n    {\n      \"column\": \"4. My level of Python progrmming knowledge\",\n      \"properties\": {\n        \"dtype\": \"category\",\n        \"num_unique_values\": 2,\n        \"samples\": [\n          \"Beginner\"\n        ],\n        \"semantic_type\": \"\",\n        \"description\": \"\"\n      }\n    },\n    {\n      \"column\": \"5. My level of Statistics knowledge\",\n      \"properties\": {\n        \"dtype\": \"category\",\n        \"num_unique_values\": 2,\n        \"samples\": [\n          \"Beginner\"\n        ],\n        \"semantic_type\": \"\",\n        \"description\": \"\"\n      }\n    },\n    {\n      \"column\": \"6. My Familarity with GitHub\",\n      \"properties\": {\n        \"dtype\": \"category\",\n        \"num_unique_values\": 1,\n        \"samples\": [\n          \"I use GitHub occasionally\"\n        ],\n        \"semantic_type\": \"\",\n        \"description\": \"\"\n      }\n    },\n    {\n      \"column\": \"7. My gender\",\n      \"properties\": {\n        \"dtype\": \"category\",\n        \"num_unique_values\": 1,\n        \"samples\": [\n          \"Male\"\n        ],\n        \"semantic_type\": \"\",\n        \"description\": \"\"\n      }\n    },\n    {\n      \"column\": \"8. My Birth Year\",\n      \"properties\": {\n        \"dtype\": \"string\",\n        \"num_unique_values\": 4,\n        \"samples\": [\n          \"1999\"\n        ],\n        \"semantic_type\": \"\",\n        \"description\": \"\"\n      }\n    },\n    {\n      \"column\": \"9. What do you enjoy doing in your leisure time?\",\n      \"properties\": {\n        \"dtype\": \"string\",\n        \"num_unique_values\": 5,\n        \"samples\": [\n          \"Sports\"\n        ],\n        \"semantic_type\": \"\",\n        \"description\": \"\"\n      }\n    },\n    {\n      \"column\": \"10. What do you expect to get out of this course?\",\n      \"properties\": {\n        \"dtype\": \"string\",\n        \"num_unique_values\": 5,\n        \"samples\": [\n          \"A good handson experience on statistics and python programming \"\n        ],\n        \"semantic_type\": \"\",\n        \"description\": \"\"\n      }\n    },\n    {\n      \"column\": \"11. What is your long-term career goal?\",\n      \"properties\": {\n        \"dtype\": \"string\",\n        \"num_unique_values\": 5,\n        \"samples\": [\n          \"Data analyst\"\n        ],\n        \"semantic_type\": \"\",\n        \"description\": \"\"\n      }\n    },\n    {\n      \"column\": \"12. Other courses taking this semester\",\n      \"properties\": {\n        \"dtype\": \"string\",\n        \"num_unique_values\": 5,\n        \"samples\": [\n          \"Capstone in Data Science | DATA 606;Special Topics in Data Science | DATA 690 - Intro to Natural Language Processing\"\n        ],\n        \"semantic_type\": \"\",\n        \"description\": \"\"\n      }\n    }\n  ]\n}"
            }
          },
          "metadata": {},
          "execution_count": 45
        }
      ]
    },
    {
      "cell_type": "markdown",
      "source": [
        "## Step 2: Explore Age Distribution\n"
      ],
      "metadata": {
        "id": "lPnMeOwidJRp"
      }
    },
    {
      "cell_type": "code",
      "source": [
        "# Access a column in a panda object like its a dictionary and then convert into a list.\n",
        "yob_list = list(df['8. My Birth Year'])\n"
      ],
      "metadata": {
        "id": "rsoKWspAdP0H"
      },
      "execution_count": null,
      "outputs": []
    },
    {
      "cell_type": "code",
      "source": [
        "cleansed_yob_list = [] # Empty list\n",
        "\n",
        "for yob in yob_list:\n",
        "  cleansed_yob = yob[-4:]\n",
        "  cleansed_yob_list.append(cleansed_yob)\n",
        "\n",
        "cleansed_yob_list\n"
      ],
      "metadata": {
        "colab": {
          "base_uri": "https://localhost:8080/"
        },
        "id": "4lpsC_bgeXGj",
        "outputId": "c1280a92-5b00-4baa-c252-9e613eb5807d"
      },
      "execution_count": null,
      "outputs": [
        {
          "output_type": "execute_result",
          "data": {
            "text/plain": [
              "['2000',\n",
              " '2002',\n",
              " '1997',\n",
              " '1999',\n",
              " '2000',\n",
              " '2001',\n",
              " '2000',\n",
              " '1999',\n",
              " '1978',\n",
              " '2000',\n",
              " '1999',\n",
              " '2000',\n",
              " '1998',\n",
              " '2001',\n",
              " '2001',\n",
              " '2000',\n",
              " '2002',\n",
              " '1992',\n",
              " '2001',\n",
              " '1997',\n",
              " '1999']"
            ]
          },
          "metadata": {},
          "execution_count": 7
        }
      ]
    },
    {
      "cell_type": "code",
      "source": [
        "# Now let's modify the same column and convert the years of birth to ages.\n",
        "\n",
        "age_list = []\n",
        "\n",
        "# Iterates through years and converts into age (CAO 2024)\n",
        "for yob in cleansed_yob_list:\n",
        "  age = int(2024-int(yob))\n",
        "  age_list.append(age)\n",
        "\n",
        "age_list"
      ],
      "metadata": {
        "colab": {
          "base_uri": "https://localhost:8080/"
        },
        "id": "fQDtM5BngpZR",
        "outputId": "c576e8a5-f6bb-499e-ebf5-ff00b4564dd3"
      },
      "execution_count": null,
      "outputs": [
        {
          "output_type": "execute_result",
          "data": {
            "text/plain": [
              "[24,\n",
              " 22,\n",
              " 27,\n",
              " 25,\n",
              " 24,\n",
              " 23,\n",
              " 24,\n",
              " 25,\n",
              " 46,\n",
              " 24,\n",
              " 25,\n",
              " 24,\n",
              " 26,\n",
              " 23,\n",
              " 23,\n",
              " 24,\n",
              " 22,\n",
              " 32,\n",
              " 23,\n",
              " 27,\n",
              " 25]"
            ]
          },
          "metadata": {},
          "execution_count": 8
        }
      ]
    },
    {
      "cell_type": "code",
      "source": [
        "# Finds minimum age.\n",
        "min(age_list)\n",
        "\n",
        "# Finds maximum age.\n",
        "max(age_list)\n",
        "\n",
        "# Finds average\n",
        "total_age = 0\n",
        "\n",
        "for age in age_list:\n",
        "  total_age = total_age + age\n",
        "\n",
        "# Calculates and rounds average age.\n",
        "round(total_age/len(age_list))\n"
      ],
      "metadata": {
        "id": "QYUNgXIvlzTY",
        "outputId": "95726323-3197-42f7-a7ae-aa28e175988c",
        "colab": {
          "base_uri": "https://localhost:8080/"
        }
      },
      "execution_count": null,
      "outputs": [
        {
          "output_type": "execute_result",
          "data": {
            "text/plain": [
              "26"
            ]
          },
          "metadata": {},
          "execution_count": 9
        }
      ]
    },
    {
      "cell_type": "code",
      "source": [
        "revised_age_total = 0\n",
        "num_skipped = 0\n",
        "\n",
        "for age in age_list:\n",
        "  if age > 35:\n",
        "    num_skipped += 1\n",
        "    continue\n",
        "  revised_age_total += age\n",
        "\n",
        "print('Revised average age, minus outliers, is: ' + str(round(revised_age_total/(len(age_list)-num_skipped))))"
      ],
      "metadata": {
        "id": "ysZhSlr1o5oL",
        "outputId": "c2c13bee-196f-4cce-bfe7-81dfadc211ca",
        "colab": {
          "base_uri": "https://localhost:8080/"
        }
      },
      "execution_count": null,
      "outputs": [
        {
          "output_type": "stream",
          "name": "stdout",
          "text": [
            "Revised average age, minus outliers, is: 25\n"
          ]
        }
      ]
    },
    {
      "cell_type": "code",
      "source": [
        "# Now, lets remove some smaller numbered outliers as well.\n",
        "\n",
        "revised_age_total_2 = 0\n",
        "num_skipped_2 = 0\n",
        "\n",
        "for age in age_list:\n",
        "  if age >= 35 or age <= 22:\n",
        "    print('Age', age, 'is skipped.')\n",
        "    num_skipped_2 += 1\n",
        "  else:\n",
        "    revised_age_total_2 += age\n",
        "\n",
        "print('Revised average age, minus small and large outliers, is:', str(round(revised_age_total_2/(len(age_list)-num_skipped_2))))"
      ],
      "metadata": {
        "id": "3LVAwpy8qEjA",
        "outputId": "a77f36a7-a92c-441d-c7d9-a08a8b90ddc2",
        "colab": {
          "base_uri": "https://localhost:8080/"
        }
      },
      "execution_count": null,
      "outputs": [
        {
          "output_type": "stream",
          "name": "stdout",
          "text": [
            "Age 22 is skipped.\n",
            "Age 46 is skipped.\n",
            "Age 22 is skipped.\n",
            "Revised average age, minus small and large outliers, is: 25\n"
          ]
        }
      ]
    },
    {
      "cell_type": "markdown",
      "source": [
        "## Step 3: Explore Educational Background\n",
        "\n",
        "> * Analyzing our students' educational background."
      ],
      "metadata": {
        "id": "HjLlKttHrj_y"
      }
    },
    {
      "cell_type": "code",
      "source": [
        "# Gathers educational background data from responses.\n",
        "edu_list = list(df['1. My primary educational background'])\n",
        "\n",
        "# This function is a comprehensive strip() function, removing parentheses and commas, and lowercases the word.\n",
        "\n",
        "def strip_all(word):\n",
        "  strip1 = word.strip(')')\n",
        "  strip2 = strip1.strip('(')\n",
        "  strip3 = strip2.strip(',')\n",
        "  lower_strip = strip3.lower()\n",
        "  return lower_strip\n",
        "\n",
        "# Lists of keywords for (3) different educational disciplines.\n",
        "stem_kw_list = ['stem', 'mathematics', 'software', 'engineering', 'science', 'psychology']\n",
        "social_sci_kw_list = ['history', 'political' 'science', 'social']\n",
        "crim_just_kw_list = ['criminal', 'justice', 'policing', 'law']\n",
        "\n",
        "# Counts number of students in multiple disciplines using keywords\n",
        "stem_stud_count = 0\n",
        "social_sci_stud_count = 0\n",
        "crim_just_stud_count = 0\n",
        "other_stud_count = 0\n",
        "\n",
        "for student_edu in edu_list:\n",
        "  # Creates a list from the response with each element being (1) word with punctuation\n",
        "  kw_list = student_edu.split()\n",
        "\n",
        "  # Removes any commas or periods or other punctuation around keywords.\n",
        "  np_kw_list = [strip_all(word) for word in kw_list]\n",
        "\n",
        "  # For loop checks to see if student gave keyword responses to (3) different educational backgrounds.\n",
        "  for kw in np_kw_list:\n",
        "\n",
        "    # Checks for STEM words WITHOUT social science terms.\n",
        "    if kw in stem_kw_list and kw != 'political' and kw != 'social':\n",
        "      stem_stud_count += 1\n",
        "      break\n",
        "\n",
        "    # Checks for social science terms\n",
        "    elif kw in social_sci_kw_list:\n",
        "      social_sci_stud_count += 1\n",
        "      break\n",
        "\n",
        "    # Checks for criminal justice terms\n",
        "    elif kw in crim_just_kw_list:\n",
        "      crim_just_stud_count += 1\n",
        "      break\n",
        "    # Continues with next word if word is not a \"keyword\"\n",
        "    elif kw is np_kw_list[len(np_kw_list)-1]:\n",
        "        other_stud_count += 1\n",
        "        break\n",
        "    continue\n",
        "\n",
        "# Prints results\n",
        "print(\"STEM Students: \", stem_stud_count)\n",
        "print(\"Social Science Students: \", social_sci_stud_count)\n",
        "print(\"Criminal Justice Students: \", crim_just_stud_count)\n",
        "print(\"Other Students: \", other_stud_count)\n",
        "print(\"Total Students: \", len(edu_list))\n"
      ],
      "metadata": {
        "id": "F3t7u2_Or-9X",
        "outputId": "a207687c-21d9-4832-effb-2dc9e52d61f1",
        "colab": {
          "base_uri": "https://localhost:8080/"
        }
      },
      "execution_count": 46,
      "outputs": [
        {
          "output_type": "stream",
          "name": "stdout",
          "text": [
            "STEM Students:  19\n",
            "Social Science Students:  1\n",
            "Criminal Justice Students:  1\n",
            "Other Students:  0\n",
            "Total Students:  21\n"
          ]
        }
      ]
    },
    {
      "cell_type": "markdown",
      "source": [
        "## Step 4: Explore Job Function\n",
        "\n",
        "> * Analyzing our students' full-time employment fields."
      ],
      "metadata": {
        "id": "VFVBbabesPZB"
      }
    },
    {
      "cell_type": "code",
      "source": [
        "# Gathers job field data from responses.\n",
        "job_list = list(df['2. My primary job function'])\n",
        "\n",
        "# Starts counting responses per (3) different responses from job-field question.\n",
        "f_t_stud_count = 0\n",
        "tech_engi_count = 0\n",
        "busi_count = 0\n",
        "\n",
        "for job in job_list:\n",
        "  if job == 'Full-time Student':\n",
        "    f_t_stud_count += 1\n",
        "  elif job == 'Technology/engineering-oriented':\n",
        "    tech_engi_count += 1\n",
        "  elif job == 'Business/service-oriented':\n",
        "    busi_count += 1\n",
        "\n",
        "# Prints results\n",
        "print('Full-time Student Count: ', f_t_stud_count)\n",
        "print('Students Working In Tech/Engineering Fields: ', tech_engi_count)\n",
        "print('Students Working In Business/Service Fields: ', busi_count)\n",
        "print(\"Total Students: \", len(job_list))\n",
        "\n"
      ],
      "metadata": {
        "id": "mpbsO7S8qKI1",
        "outputId": "20c239fd-6a7a-48c9-e52b-2ee9b4d0f8d0",
        "colab": {
          "base_uri": "https://localhost:8080/"
        }
      },
      "execution_count": 43,
      "outputs": [
        {
          "output_type": "stream",
          "name": "stdout",
          "text": [
            "Full-time Student Count:  17\n",
            "Students Working In Tech/Engineering Fields:  2\n",
            "Students Working In Business/Service Fields:  2\n",
            "Total Students:  21\n"
          ]
        }
      ]
    },
    {
      "cell_type": "markdown",
      "source": [
        "## Step 5: Explore How Many Students Wanted 'Statistics' review\n",
        "\n",
        "> * Using similar techniques from 'Explore Educational Background,' I explore how many students suggested that they wanted to review Statistics in this course."
      ],
      "metadata": {
        "id": "ioru1bDjtLMW"
      }
    },
    {
      "cell_type": "code",
      "source": [
        "# Gathers responses regarding what students hope to get out of the course.\n",
        "why_list = list(df['10. What do you expect to get out of this course?'])\n",
        "\n",
        "# Lists of keywords suggesting review of Statistics.\n",
        "stats_kw_list = ['statistics', 'statistical']\n",
        "review_kw_list = ['learn', 'review', 'brush', 'basics', 'hands-on', 'experience']\n",
        "\n",
        "# Counts number of students wanting to review Statistics.\n",
        "stat_review_stud_count = 0\n",
        "\n",
        "\n",
        "\n",
        "for stud_why in why_list:\n",
        "\n",
        "  # Assign flags to be True if and only if they responded suggesting a review of Statistics.\n",
        "  stats_flag = False\n",
        "  review_flag = False\n",
        "\n",
        "  # Creates a list of str from the student's response with each element being (1) keyword with punctuation.\n",
        "  kw_list = stud_why.split()\n",
        "\n",
        "  # Removes any commas or periods or other punctuation around keywords.\n",
        "  np_kw_list = [strip_all(word) for word in kw_list]\n",
        "\n",
        "  # for loop checks to see if student gave keyword responses for Statistics and review.\n",
        "  for kw in np_kw_list:\n",
        "\n",
        "    # Checks if Statistics was mentioned.\n",
        "    if kw in stats_kw_list:\n",
        "      stats_flag = True\n",
        "      continue\n",
        "\n",
        "    # Checks for keywords suggesting a \"review\"\n",
        "    elif kw in review_kw_list:\n",
        "      review_flag = True\n",
        "      continue\n",
        "\n",
        "    # Breaks inner loop if both flags are true and increments count of students.\n",
        "    if stats_flag == True and review_flag == True:\n",
        "      stat_review_stud_count += 1\n",
        "      break\n",
        "\n",
        "# Prints results\n",
        "print(\"Number of Students Wanting Review of Statistics: \", stat_review_stud_count)\n",
        "print(\"Total Students: \", len(why_list))\n",
        "print(str(float(stat_review_stud_count/len(why_list))*100) + '%', 'of students')\n",
        "\n",
        "\n",
        "\n",
        "\n"
      ],
      "metadata": {
        "id": "Vxx7yx6-tJ3-",
        "outputId": "e69ddcb4-7b77-48fb-c610-86ae96584ed2",
        "colab": {
          "base_uri": "https://localhost:8080/"
        }
      },
      "execution_count": 52,
      "outputs": [
        {
          "output_type": "stream",
          "name": "stdout",
          "text": [
            "Number of Students Wanting Review of Statistics:  5\n",
            "Total Students:  21\n",
            "23.809523809523807% of students\n"
          ]
        }
      ]
    }
  ]
}